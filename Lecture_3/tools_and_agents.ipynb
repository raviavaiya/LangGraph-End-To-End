{
 "cells": [
  {
   "cell_type": "markdown",
   "id": "346dc5aa",
   "metadata": {},
   "source": [
    "# Tools and Agents "
   ]
  },
  {
   "cell_type": "code",
   "execution_count": 2,
   "id": "4f808e49",
   "metadata": {},
   "outputs": [],
   "source": [
    "import os\n",
    "from dotenv import load_dotenv \n",
    "load_dotenv()\n",
    "\n",
    "GROQ_API_KEY = os.getenv(\"GROQ_API_KEY\")\n",
    "LANGCHAIN_API_KEY = os.getenv(\"LANGCHAIN_API_KEY\")\n",
    "LANGSMITH_API_KEY = os.getenv(\"LANGSMITH_API_KEY\")\n",
    "LANGSMITH_PROJECT = os.getenv(\"LANGSMITH_PROJECT\")\n",
    "GOOGLE_API_KEY = os.getenv(\"GOOGLE_API_KEY\")\n",
    "TAVILY_API_KEY = os.getenv(\"TAVILY_API_KEY\")\n",
    "SERPER_API_KEY = os.getenv(\"SERPER_API_KEY\")\n",
    "\n",
    "os.environ[\"SERPER_API_KEY\"] = SERPER_API_KEY\n",
    "os.environ[\"LANGCHAIN_TRACING_V2\"] = \"true\"\n",
    "os.environ[\"GOOGLE_API_KEY\"] = GOOGLE_API_KEY\n",
    "os.environ[\"GROQ_API_KEY\"] = GROQ_API_KEY\n",
    "os.environ[\"LANGCHAIN_API_KEY\"] = LANGCHAIN_API_KEY\n",
    "os.environ[\"LANGSMITH_API_KEY\"] = LANGSMITH_API_KEY\n",
    "os.environ[\"LANGSMITH_PROJECT\"] = LANGSMITH_PROJECT\n",
    "os.environ[\"TAVILY_API_KEY\"] = TAVILY_API_KEY"
   ]
  },
  {
   "cell_type": "code",
   "execution_count": 3,
   "id": "2f5b8073",
   "metadata": {},
   "outputs": [],
   "source": [
    "from langchain_groq import ChatGroq\n",
    "llm=ChatGroq(model=\"Gemma2-9b-It\")"
   ]
  },
  {
   "cell_type": "code",
   "execution_count": 4,
   "id": "e8411e39",
   "metadata": {},
   "outputs": [
    {
     "data": {
      "text/plain": [
       "AIMessage(content='Hello! 👋  How can I help you today? 😊\\n', additional_kwargs={}, response_metadata={'token_usage': {'completion_tokens': 15, 'prompt_tokens': 11, 'total_tokens': 26, 'completion_time': 0.027272727, 'prompt_time': 0.001905035, 'queue_time': 0.233261988, 'total_time': 0.029177762}, 'model_name': 'Gemma2-9b-It', 'system_fingerprint': 'fp_10c08bf97d', 'finish_reason': 'stop', 'logprobs': None}, id='run-dd075fe6-661e-4ee1-8c75-7f9e0a1b6ec6-0', usage_metadata={'input_tokens': 11, 'output_tokens': 15, 'total_tokens': 26})"
      ]
     },
     "execution_count": 4,
     "metadata": {},
     "output_type": "execute_result"
    }
   ],
   "source": [
    "llm.invoke(\"Hii,\")"
   ]
  },
  {
   "cell_type": "code",
   "execution_count": 5,
   "id": "24a9fef4",
   "metadata": {},
   "outputs": [
    {
     "name": "stderr",
     "output_type": "stream",
     "text": [
      "C:\\Users\\ravia\\AppData\\Local\\Temp\\ipykernel_11884\\444928007.py:2: LangChainDeprecationWarning: The class `HuggingFaceEmbeddings` was deprecated in LangChain 0.2.2 and will be removed in 1.0. An updated version of the class exists in the :class:`~langchain-huggingface package and should be used instead. To use it run `pip install -U :class:`~langchain-huggingface` and import as `from :class:`~langchain_huggingface import HuggingFaceEmbeddings``.\n",
      "  enbeddings = HuggingFaceEmbeddings(model_name=\"all-MiniLM-L6-v2\")\n",
      "d:\\LangGraph-End-To-End\\langgreph_env\\Lib\\site-packages\\tqdm\\auto.py:21: TqdmWarning: IProgress not found. Please update jupyter and ipywidgets. See https://ipywidgets.readthedocs.io/en/stable/user_install.html\n",
      "  from .autonotebook import tqdm as notebook_tqdm\n"
     ]
    }
   ],
   "source": [
    "from langchain.embeddings import HuggingFaceEmbeddings\n",
    "enbeddings = HuggingFaceEmbeddings(model_name=\"all-MiniLM-L6-v2\")"
   ]
  },
  {
   "cell_type": "markdown",
   "id": "3705822b",
   "metadata": {},
   "source": [
    "## Predifine Tool"
   ]
  },
  {
   "cell_type": "markdown",
   "id": "ff39b608",
   "metadata": {},
   "source": [
    "### Wikipedia"
   ]
  },
  {
   "cell_type": "code",
   "execution_count": 6,
   "id": "4fb18f42",
   "metadata": {},
   "outputs": [
    {
     "name": "stdout",
     "output_type": "stream",
     "text": [
      "Page: LangChain\n",
      "Summary: LangChain is a software framework that helps facilitate the integration of large language models (LLMs) into applications. As a language model integration framework, LangChain's use-cases largely overlap with those of language models in general, including document analysis and summarization, chatbots, and code analysis.\n",
      "\n",
      "Page: Model Context Protocol\n",
      "Summary: The Model Context Protocol (MCP) is an open standard developed by the artificial intelligence company Anthropic for enabling large language model (LLM) applications to interact with external tools, systems, and data sources. Designed to standardize context exchange between AI assistants and software environments, MCP provides a model-agnostic interface for reading files, executing functions, and handling contextual prompts. It was officially announced and open-sourced by Anthropic in November 2024, with subsequent adoption by major AI providers including OpenAI and Google DeepMind.\n",
      "\n",
      "Page: Retrieval-augmented generation\n",
      "Summary: Retrieval-augmented generation (RAG) is a technique that enables generative artificial intelligence (Gen AI) models to retrieve and incorporate new information. It modifies interactions with a large language model (LLM) so that the model responds to user queries with reference to a specified set of documents, using this information to supplement information from its pre-existing training data. This allows LLMs to use domain-specific and/or updated information. Use cases include providing chatbot access to internal company data or generating responses based on authoritative sources.\n",
      "RAG improves large language models (LLMs) by incorporating information retrieval before generating responses. Unlike traditional LLMs that rely on static training data, RAG pulls relevant text from databases, uploaded documents, or web sources. According to Ars Technica, \"RAG is a way of improving LLM performance, in essence by blending the LLM process with a web search or other document look-up process to help LLMs stick to the facts.\" This method helps reduce AI hallucinations, which have led to real-world issues like chatbots inventing policies or lawyers citing nonexistent legal cases.\n",
      "By dynamically retrieving information, RAG enables AI to provide more accurate responses without frequent retraining. According to IBM, \"RAG also reduces the need for users to continuously train the model on new data and update its parameters as circumstances evolve. In this way, RAG can lower the computational and financial costs of running LLM-powered chatbots in an enterprise setting.\"\n",
      "Beyond efficiency gains, RAG also allows LLMs to include source references in their responses, enabling users to verify information by reviewing cited documents or original sources. This can provide greater transparency, as users can cross-check retrieved content to ensure accuracy and relevance.\n",
      "The term \"retrieval-augmented generation\" (RAG) was first introduced in 2020 by Douwe Kiela, Patrick Lewis, Ethan Perez, Aleksandra Piktus, Fabio Petroni, Vladimir Karpukhin, Naman Goyal, Heinrich Küttler, Mike Lewis, Wen-tau Yih, Tim Rocktäschel, and Sebastian Riedel in their research paper Retrieval-Augmented Generation for Knowledge-Intensive NLP Tasks, at Meta.\n"
     ]
    }
   ],
   "source": [
    "from langchain_community.tools import WikipediaQueryRun\n",
    "from langchain_community.utilities import WikipediaAPIWrapper\n",
    "wikipedia_api = WikipediaAPIWrapper()\n",
    "wiki = WikipediaQueryRun(api_wrapper=wikipedia_api)\n",
    "print(wiki.run({\"query\": \"Langchain\"}))"
   ]
  },
  {
   "cell_type": "markdown",
   "id": "40924abd",
   "metadata": {},
   "source": [
    "### Youtube search"
   ]
  },
  {
   "cell_type": "code",
   "execution_count": 7,
   "id": "a0c8d6be",
   "metadata": {},
   "outputs": [
    {
     "name": "stdout",
     "output_type": "stream",
     "text": [
      "['https://www.youtube.com/watch?v=ktjJAxaX8rc&pp=ygUMc3Vubnkgc2F2aXRh', 'https://www.youtube.com/watch?v=cydntJObPLI&pp=ygUMc3Vubnkgc2F2aXRh']\n"
     ]
    }
   ],
   "source": [
    "from langchain_community.tools import YouTubeSearchTool\n",
    "youtube = YouTubeSearchTool()\n",
    "print(youtube.run(\"sunny savita\"))"
   ]
  },
  {
   "cell_type": "markdown",
   "id": "c13383c1",
   "metadata": {},
   "source": [
    "### Travily search"
   ]
  },
  {
   "cell_type": "code",
   "execution_count": 8,
   "id": "893a9d37",
   "metadata": {},
   "outputs": [
    {
     "name": "stdout",
     "output_type": "stream",
     "text": [
      "[{'title': 'Portfolio - Ravi Avaiya', 'url': 'https://raviavaiya-portfolio.vercel.app/project-details.html', 'content': \"I'm Ravi Avaiya, a dedicated web developer with a passion for crafting exceptional digital experiences. With expertise in a variety of technologies, I\", 'score': 0.76617163}, {'title': 'Ravi Avaiya | Portfolio', 'url': 'https://raviavaiya-portfolio.netlify.app/', 'content': \"I'm Ravi Avaiya, a dedicated Data Scientist with a passion for crafting exceptional digital experiences.\\n        With expertise in a variety of technologies, I specialize in Data Science. [...] Ravi Avaiya\\n\\nI'm a Data Scientist\\n\\nAbout Me\\n\\nPassionate Data Scientist Crafting Engaging Digital Experiences\\n\\nHappy Clients Successfully delivered quality services to satisfied clients.\\n\\nProjects Completed diverse projects with excellence and precision.\\n\\nYears of experience Bringing two years of expertise in the industry.\\n\\nAwards Recognized with five prestigious awards for outstanding work.\\n\\nMy Resume [...] As a chatbot developer, I build AI-driven chatbots that offer efficient, accurate,\\n                and personalized user experiences across various platforms, ensuring smooth interaction and customer\\n                satisfaction.\\n\\nMy Skills\\n\\nUnleashing the Power of Skills: Showcasing a Diverse Arsenal of Expertise, Innovation, and\\n            Problem-Solving. Explore a Spectrum of Proficiencies that Drive Results and Fuel Success\\n\\nProjects\", 'score': 0.7552947}, {'title': 'Ravi Avaiya raviavaiya - GitHub', 'url': 'https://github.com/raviavaiya', 'content': 'You must be logged in to block users.\\n\\nContact GitHub support about this user’s behavior.\\n        Learn more about reporting abuse.\\n\\nनमस्ते 🙏🏻, Hi there 👋 I am Ravi Avaiya!\\n\\n\\n\\n🔭 I’m currently working on AI/ML Projects\\n\\n🌱 I’m currently learning Python | FastAPI | LangChain | Prompt Engineering\\n\\n💬 Ask me about Python, AI, Data Science, Machine Learning, LangChain, RAG\\n\\n📫 How to reach me:\\n\\n⚡ Fun fact: I love building communities and mentoring beginners!\\n\\n🛠️ Tech Stack\\n\\n👨\\u200d💻 Languages [...] Navigation Menu\\n\\nSearch code, repositories, users, issues, pull requests...\\n\\nProvide feedback\\n\\nWe read every piece of feedback, and take your input very seriously.\\n\\nSaved searches\\n\\nUse saved searches to filter your results more quickly\\n\\nTo see all available qualifiers, see our documentation.\\n\\n\\n\\nRavi Avaiya\\n        \\n\\n          raviavaiya\\n\\nBlock or report raviavaiya\\n\\nPrevent this user from interacting with your repositories and sending you notifications.\\n          Learn more about blocking users. [...] Vibe Coding.....\\n\\nHTML\\n\\nFooter\\n\\nFooter navigation', 'score': 0.6852132}, {'title': 'Ravi Avaiya | Novice - Kaggle', 'url': 'https://www.kaggle.com/raviavaiya', 'content': 'Results-driven Machine Learning Intern with expertise in Generative AI, Natural Language Processing (NLP), and predictive modeling.', 'score': 0.6180666}, {'title': 'Ravi Avaiya - Surat, Gujarat, India | Professional Profile | LinkedIn', 'url': 'https://in.linkedin.com/in/ravi-avaiya-059b82249', 'content': 'I have successfully completed my BSc.IT graduation with a strong foundation in Information Technology and a keen interest in Data Science.', 'score': 0.61251885}]\n"
     ]
    }
   ],
   "source": [
    "from langchain_community.tools.tavily_search import  TavilySearchResults\n",
    "search = TavilySearchResults()\n",
    "print(search.invoke({\"query\":\"Ravi Avaiya\"}))"
   ]
  },
  {
   "cell_type": "markdown",
   "id": "06602429",
   "metadata": {},
   "source": [
    "## Create Custom tool"
   ]
  },
  {
   "cell_type": "code",
   "execution_count": 9,
   "id": "081b94ec",
   "metadata": {},
   "outputs": [
    {
     "name": "stderr",
     "output_type": "stream",
     "text": [
      "C:\\Users\\ravia\\AppData\\Local\\Temp\\ipykernel_11884\\2965449846.py:7: LangChainDeprecationWarning: The method `BaseTool.__call__` was deprecated in langchain-core 0.1.47 and will be removed in 1.0. Use :meth:`~invoke` instead.\n",
      "  get_word_length(\"abc\")\n"
     ]
    },
    {
     "data": {
      "text/plain": [
       "3"
      ]
     },
     "execution_count": 9,
     "metadata": {},
     "output_type": "execute_result"
    }
   ],
   "source": [
    "from langchain.agents import tool\n",
    "\n",
    "@tool\n",
    "def get_word_length(word: str) -> int:\n",
    "    \"\"\"Returns the length of the word.\"\"\"\n",
    "    return len(word)\n",
    "get_word_length(\"abc\")"
   ]
  },
  {
   "cell_type": "code",
   "execution_count": 10,
   "id": "671ac728",
   "metadata": {},
   "outputs": [
    {
     "name": "stdout",
     "output_type": "stream",
     "text": [
      "2000\n",
      "Multiply two numbers\n"
     ]
    }
   ],
   "source": [
    "from langchain.agents import tool\n",
    "\n",
    "@tool\n",
    "def multiply(a: int,b: int) -> int:\n",
    "    \"\"\"Multiply two numbers\"\"\"\n",
    "    return a * b\n",
    "print(multiply.invoke({\"a\":100,\"b\":20}))\n",
    "print(multiply.description)"
   ]
  },
  {
   "cell_type": "code",
   "execution_count": 11,
   "id": "5559cf71",
   "metadata": {},
   "outputs": [
    {
     "name": "stdout",
     "output_type": "stream",
     "text": [
      "120\n",
      "Adding two numbers\n"
     ]
    }
   ],
   "source": [
    "from langchain.agents import tool\n",
    "\n",
    "@tool\n",
    "def addition(a: int,b: int) -> int:\n",
    "    \"\"\"Adding two numbers\"\"\"\n",
    "    return a + b\n",
    "print(addition.invoke({\"a\":100,\"b\":20}))\n",
    "print(addition.description)"
   ]
  },
  {
   "cell_type": "code",
   "execution_count": 12,
   "id": "c0e283ff",
   "metadata": {},
   "outputs": [
    {
     "name": "stdout",
     "output_type": "stream",
     "text": [
      "Adding two numbers\n",
      "{'a': {'title': 'A', 'type': 'integer'}, 'b': {'title': 'B', 'type': 'integer'}}\n",
      "addition\n"
     ]
    }
   ],
   "source": [
    "print(addition.description)\n",
    "print(addition.args)\n",
    "print(addition.name)"
   ]
  },
  {
   "cell_type": "markdown",
   "id": "cae80093",
   "metadata": {},
   "source": [
    "# Concept Of Agents"
   ]
  },
  {
   "cell_type": "markdown",
   "id": "ceace586",
   "metadata": {},
   "source": [
    "### This agent classs from the first version of  (Lagacy)"
   ]
  },
  {
   "cell_type": "code",
   "execution_count": 13,
   "id": "591c8eff",
   "metadata": {},
   "outputs": [],
   "source": [
    "from langchain.agents import AgentType\n",
    "from langchain.agents import initialize_agent\n",
    "from langchain.agents import load_tools"
   ]
  },
  {
   "cell_type": "code",
   "execution_count": 14,
   "id": "f087f55d",
   "metadata": {},
   "outputs": [],
   "source": [
    "tool = load_tools([\"wikipedia\"],llm=llm)"
   ]
  },
  {
   "cell_type": "code",
   "execution_count": 15,
   "id": "d1ecd489",
   "metadata": {},
   "outputs": [
    {
     "name": "stderr",
     "output_type": "stream",
     "text": [
      "C:\\Users\\ravia\\AppData\\Local\\Temp\\ipykernel_11884\\354760984.py:1: LangChainDeprecationWarning: LangChain agents will continue to be supported, but it is recommended for new use cases to be built with LangGraph. LangGraph offers a more flexible and full-featured framework for building agents, including support for tool-calling, persistence of state, and human-in-the-loop workflows. For details, refer to the `LangGraph documentation <https://langchain-ai.github.io/langgraph/>`_ as well as guides for `Migrating from AgentExecutor <https://python.langchain.com/docs/how_to/migrate_agent/>`_ and LangGraph's `Pre-built ReAct agent <https://langchain-ai.github.io/langgraph/how-tos/create-react-agent/>`_.\n",
      "  agent = initialize_agent(tool,llm,agent=AgentType.ZERO_SHOT_REACT_DESCRIPTION,verbose=True)\n"
     ]
    }
   ],
   "source": [
    "agent = initialize_agent(tool,llm,agent=AgentType.ZERO_SHOT_REACT_DESCRIPTION,verbose=True)"
   ]
  },
  {
   "cell_type": "code",
   "execution_count": 16,
   "id": "81811cd8",
   "metadata": {},
   "outputs": [
    {
     "name": "stderr",
     "output_type": "stream",
     "text": [
      "C:\\Users\\ravia\\AppData\\Local\\Temp\\ipykernel_11884\\3479657850.py:1: LangChainDeprecationWarning: The method `Chain.run` was deprecated in langchain 0.1.0 and will be removed in 1.0. Use :meth:`~invoke` instead.\n",
      "  agent.run(\"What is llama and Who created this llm model?\")\n"
     ]
    },
    {
     "name": "stdout",
     "output_type": "stream",
     "text": [
      "\n",
      "\n",
      "\u001b[1m> Entering new AgentExecutor chain...\u001b[0m\n",
      "\u001b[32;1m\u001b[1;3mThought: I need to look up \"llama\" on Wikipedia to see what it is and who created it.\n",
      "Action: wikipedia\n",
      "Action Input: llama\u001b[0m"
     ]
    },
    {
     "name": "stderr",
     "output_type": "stream",
     "text": [
      "d:\\LangGraph-End-To-End\\langgreph_env\\Lib\\site-packages\\wikipedia\\wikipedia.py:389: GuessedAtParserWarning: No parser was explicitly specified, so I'm using the best available HTML parser for this system (\"html.parser\"). This usually isn't a problem, but if you run this code on another system, or in a different virtual environment, it may use a different parser and behave differently.\n",
      "\n",
      "The code that caused this warning is on line 389 of the file d:\\LangGraph-End-To-End\\langgreph_env\\Lib\\site-packages\\wikipedia\\wikipedia.py. To get rid of this warning, pass the additional argument 'features=\"html.parser\"' to the BeautifulSoup constructor.\n",
      "\n",
      "  lis = BeautifulSoup(html).find_all('li')\n"
     ]
    },
    {
     "name": "stdout",
     "output_type": "stream",
     "text": [
      "\n",
      "Observation: \u001b[36;1m\u001b[1;3mPage: Llama\n",
      "Summary: The llama (; Spanish pronunciation: [ˈʎama] or [ˈʝama]) (Lama glama) is a domesticated South American camelid, widely used as a meat and pack animal by Andean cultures since the pre-Columbian era.\n",
      "Llamas are social animals and live with others as a herd. Their wool is soft and contains only a small amount of lanolin. Llamas can learn simple tasks after a few repetitions. When using a pack, they can carry about 25 to 30% of their body weight for 8 to 13 km (5–8 miles). The name llama (also historically spelled \"lama\" or \"glama\") was adopted by European settlers from native Peruvians.\n",
      "The ancestors of llamas are thought to have originated on the Great Plains of North America about 40 million years ago and subsequently migrated to South America about three million years ago during the Great American Interchange. By the end of the last ice age (10,000–12,000 years ago), camelids were extinct in North America. As of 2007, there were over seven million llamas and alpacas in South America. Some were imported to the United States and Canada late in the 20th century; their descendants now number more than 158,000 llamas and 100,000 alpacas.\n",
      "In Aymara mythology, llamas are important beings. The Heavenly Llama is said to drink water from the ocean and urinates as it rains. According to Aymara eschatology, llamas will return to the water springs and ponds where they come from at the end of time.\n",
      "\n",
      "Page: Llama (language model)\n",
      "Summary: Llama (Large Language Model Meta AI, formerly stylized as LLaMA) is a family of large language models (LLMs) released by Meta AI starting in February 2023. The latest version is Llama 4, released in April 2025.\n",
      "Llama models come in different sizes, ranging from 1 billion to 2 trillion parameters. Initially only a foundation model, starting with Llama 2, Meta AI released instruction fine-tuned versions alongside foundation models.\n",
      "Model weights for the first version of Llama were only available to researchers on a case-by-case basis, under a non-commercial license. Unauthorized copies of the first model were shared via BitTorrent. Subsequent versions of Llama were made accessible outside academia and released under licenses that permitted some commercial use.\n",
      "Alongside the release of Llama 3, Meta added virtual assistant features to Facebook and WhatsApp in select regions, and a standalone website. Both services use a Llama 3 model.\u001b[0m\n",
      "Thought:\u001b[32;1m\u001b[1;3mThought: I found the information about the LLMa model on Wikipedia.\n",
      "Final Answer: Llama is a family of large language models (LLMs) released by Meta AI. \n",
      "\u001b[0m\n",
      "\n",
      "\u001b[1m> Finished chain.\u001b[0m\n"
     ]
    },
    {
     "data": {
      "text/plain": [
       "'Llama is a family of large language models (LLMs) released by Meta AI.'"
      ]
     },
     "execution_count": 16,
     "metadata": {},
     "output_type": "execute_result"
    }
   ],
   "source": [
    "agent.run(\"What is llama and Who created this llm model?\")"
   ]
  },
  {
   "cell_type": "code",
   "execution_count": 17,
   "id": "bc0c59c7",
   "metadata": {},
   "outputs": [
    {
     "data": {
      "text/plain": [
       "[{'title': 'Weather in Surat, Gujarat, India',\n",
       "  'url': 'https://www.weatherapi.com/',\n",
       "  'content': \"{'location': {'name': 'Surat', 'region': 'Gujarat', 'country': 'India', 'lat': 20.9667, 'lon': 72.9, 'tz_id': 'Asia/Kolkata', 'localtime_epoch': 1745396270, 'localtime': '2025-04-23 13:47'}, 'current': {'last_updated_epoch': 1745396100, 'last_updated': '2025-04-23 13:45', 'temp_c': 36.5, 'temp_f': 97.7, 'is_day': 1, 'condition': {'text': 'Sunny', 'icon': '//cdn.weatherapi.com/weather/64x64/day/113.png', 'code': 1000}, 'wind_mph': 11.2, 'wind_kph': 18.0, 'wind_degree': 284, 'wind_dir': 'WNW', 'pressure_mb': 1007.0, 'pressure_in': 29.74, 'precip_mm': 0.0, 'precip_in': 0.0, 'humidity': 29, 'cloud': 2, 'feelslike_c': 37.3, 'feelslike_f': 99.2, 'windchill_c': 36.5, 'windchill_f': 97.7, 'heatindex_c': 37.3, 'heatindex_f': 99.2, 'dewpoint_c': 15.5, 'dewpoint_f': 59.9, 'vis_km': 10.0, 'vis_miles': 6.0, 'uv': 10.4, 'gust_mph': 14.0, 'gust_kph': 22.5}}\",\n",
       "  'score': 0.9880218},\n",
       " {'title': 'Surat weather in April 2025 ⋆ Surat temperature ... - Meteoprog.com',\n",
       "  'url': 'https://www.meteoprog.com/weather/Surat/month/april/',\n",
       "  'content': 'Surat (India) weather in April 2025 ☀ Accurate weather forecast for Surat ... 23 Apr. +36°+27°. 24 Apr. +36°+27°. 25 Apr. +36°+27°. 26 Apr. +36°+27°. 27 Apr. +37°',\n",
       "  'score': 0.92731744},\n",
       " {'title': 'Weather Surat in April 2025: Temperature & Climate',\n",
       "  'url': 'https://en.climate-data.org/asia/india/gujarat/surat-959693/t/april-4/',\n",
       "  'content': '23. April | 30 °C | 86 °F | 35 °C | 95 °F | 26 °C | 78 °F | 0.3 mm | 0.0 inch.\\n24. April | 30 °C | 86 °F | 35 °C | 96 °F | 26 °C | 78 °F | 0.4 mm | 0.0 inch.\\n25. April | 30 °C | 86 °F | 35 °C | 96 °F | 26 °C | 78 °F | 2.5 mm | 0.1 inch.\\n26. April | 30 °C | 86 °F | 35 °C | 95 °F | 26 °C | 78 °F | 0.6 mm | 0.0 inch.\\n27. April | 30 °C | 87 °F | 36 °C | 96 °F | 26 °C | 79 °F | 0.2 mm | 0.0 inch.\\n28. April | 31 °C | 87 °F | 36 °C | 97 °F | 26 °C | 79 °F | 0.2 mm | 0.0 inch. [...] Min. Temperature °C (°F) | 17.3 °C(63.2) °F | 18.7 °C(65.6) °F | 21.6 °C(70.9) °F | 24.9 °C(76.8) °F | 27.2 °C(81) °F | 27.3 °C(81.1) °F | 26 °C(78.8) °F | 25.5 °C(77.9) °F | 25.4 °C(77.8) °F | 24 °C(75.3) °F | 21.8 °C(71.2) °F | 18.9 °C(65.9) °F\\nMax. Temperature °C (°F) | 27.9 °C(82.3) °F | 29.6 °C(85.3) °F | 33 °C(91.4) °F | 34.9 °C(94.8) °F | 34.2 °C(93.6) °F | 32.1 °C(89.7) °F | 29.1 °C(84.3) °F | 28.5 °C(83.4) °F | 29.7 °C(85.5) °F | 32.6 °C(90.7) °F | 31.9 °C(89.5) °F | 29.3 °C(84.7) °F [...] 29.6 °C\\n\\n(85.3) °F\\n\\n33 °C\\n\\n(91.4) °F\\n\\n34.9 °C\\n\\n(94.8) °F\\n\\n34.2 °C\\n\\n(93.6) °F\\n\\n32.1 °C\\n\\n(89.7) °F\\n\\n29.1 °C\\n\\n(84.3) °F\\n\\n28.5 °C\\n\\n(83.4) °F\\n\\n29.7 °C\\n\\n(85.5) °F\\n\\n32.6 °C\\n\\n(90.7) °F\\n\\n31.9 °C\\n\\n(89.5) °F\\n\\n29.3 °C\\n\\n(84.7) °F\\n\\n1\\n\\n(0)\\n\\n0\\n\\n(0)\\n\\n0\\n\\n(0)\\n\\n0\\n\\n(0)\\n\\n3\\n\\n(0)\\n\\n154\\n\\n(6)\\n\\n359\\n\\n(14)\\n\\n253\\n\\n(9)\\n\\n182\\n\\n(7)\\n\\n27\\n\\n(1)\\n\\n6\\n\\n(0)\\n\\n4\\n\\n(0)',\n",
       "  'score': 0.910998},\n",
       " {'title': 'Weather in Surat - Climate monitor on April 2025',\n",
       "  'url': 'https://www.weatherandclimate.eu/monitor/42840',\n",
       "  'content': 'Date | Air temperature, °С | Precipitationmm\\nMinimum | Average | Maximum | Departurefrom normal\\n1 | 24.2 | 30.3 | 38.0 | +1.1 | 0.0\\n2 | 24.6 | 31.3 | 39.6 | +2.0 | 0.0\\n3 | 25.6 | 29.6 | 34.2 | +0.3 | 0.0\\n4 | 26.0 | 30.0 | 35.8 | +0.6 | 0.0\\n5 | 24.6 | 31.3 | 39.2 | +1.8 | 0.0\\n6 | 24.8 | 32.2 | 40.8 | +2.7 | 0.0\\n7 | 23.8 | 32.1 | 40.4 | +2.5 | 0.0\\n8 | 25.4 | 32.6 | 40.6 | +2.9 | 0.0\\n9 | 25.8 | 32.2 | 41.0 | +2.5 | 0.0\\n10 | 26.0 | 30.0 | 34.4 | +0.2 | 0.0\\n11 | 26.4 | 29.2 | 32.8 | -0.6 | 0.0 [...] 12 | 26.7 | 29.3 | 32.8 | -0.6 | 0.0\\n13 | 26.2 | 30.1 | 34.5 | +0.2 | 0.0\\n14 | 25.8 | 31.2 | 40.1 | +1.2 | 0.0\\n15 | 24.1 | 30.3 | 37.0 | +0.3 | 0.0\\n16 | 26.0 | 31.3 | 38.6 | +1.2 | 0.0\\n17 | 26.8 | 30.4 | 35.6 | +0.3 | 0.0\\n18 | 26.6 | 30.4 | 36.4 | +0.2 | 0.0\\n19 | 27.2 | 29.9 | 34.0 | -0.3 | 0.0\\n20 | 26.0 | 29.9 | 34.6 | -0.4 | 0.0\\n21 | 26.4 | 31.2 | 38.0 | +0.9 | 0.0\\n22 | 25.7 | 32.2 | 40.4 | +1.9 | 0.0\\n23 |  |  |  |  | \\n24 |  |  |  |  | \\n25 |  |  |  |  | \\n26 |  |  |  |  | \\n27 |  |  |  |  | [...] 28 |  |  |  |  | \\n29 |  |  |  |  | \\n30 |  |  |  |  | \\nAir temperature chart. April  2025.',\n",
       "  'score': 0.8980626},\n",
       " {'title': 'Surat weather in April 2025 - Weather25.com',\n",
       "  'url': 'https://www.weather25.com/asia/india/gujarat/surat?page=month&month=April',\n",
       "  'content': \"Surat weather in April 2025\\n\\nThe average weather in Surat in April\\n\\nThe temperatures in Surat during April are extremely high, between 27°C and hot as 36°C, drinking water regularly is advisable.\\n\\nThere shouldn't be any rainy days in in Surat during April. Having said that, the days are very hot in April so hanging out outside is more recomanded during the after noons and evening time.\\n\\nOur weather forecast can give you a great sense of what weather to expect in Surat in April 2025. [...] Sun | Mon | Tue | Wed | Thu | Fri | Sat\\n |  | 134°/25° | 235°/25° | 334°/24° | 435°/25° | 536°/25°\\n637°/25° | 737°/27° | 838°/26° | 937°/26° | 1036°/26° | 1135°/26° | 1236°/27°\\n1336°/26° | 1437°/26° | 1537°/26° | 1636°/26° | 1737°/27° | 1837°/27° | 1937°/27°\\n2036°/27° | 2136°/27° | 2237°/26° | 2337°/28° | 2436°/28° | 2533°/27° | 2632°/26°\\n2733°/27° | 2832°/27° | 2932°/27° | 3032°/26° |  |  | \\nExplore the weather in Surat in other months\\n\\nSurat annual weather [...] Month | Temperatures | Rainy Days | Dry Days | Snowy Days | Rainfall | Weather | More details\\nJanuary | 30°/20° | 0 | 31 | 0 | 2mm | Good | Surat in January\\nFebruary | 32°/22° | 0 | 28 | 0 | 1mm | Good | Surat in February\\nMarch | 35°/24° | 0 | 31 | 0 | 2mm | Ok | Surat in March\\nApril | 36°/27° | 0 | 30 | 0 | 2mm | Ok | Surat in April\\nMay | 36°/28° | 0 | 31 | 0 | 4mm | Ok | Surat in May\\nJune | 33°/28° | 7 | 23 | 0 | 198mm | Ok | Surat in June\",\n",
       "  'score': 0.8934678}]"
      ]
     },
     "execution_count": 17,
     "metadata": {},
     "output_type": "execute_result"
    }
   ],
   "source": [
    "search.invoke(\"What is Weather of Surat, Gujrat, India?\")"
   ]
  },
  {
   "cell_type": "code",
   "execution_count": 18,
   "id": "6cbcb519",
   "metadata": {},
   "outputs": [],
   "source": [
    "tool = [search]"
   ]
  },
  {
   "cell_type": "code",
   "execution_count": 19,
   "id": "045e8c09",
   "metadata": {},
   "outputs": [
    {
     "data": {
      "text/plain": [
       "ChatPromptTemplate(input_variables=['agent_scratchpad', 'input'], optional_variables=['chat_history'], input_types={'chat_history': list[typing.Annotated[typing.Union[typing.Annotated[langchain_core.messages.ai.AIMessage, Tag(tag='ai')], typing.Annotated[langchain_core.messages.human.HumanMessage, Tag(tag='human')], typing.Annotated[langchain_core.messages.chat.ChatMessage, Tag(tag='chat')], typing.Annotated[langchain_core.messages.system.SystemMessage, Tag(tag='system')], typing.Annotated[langchain_core.messages.function.FunctionMessage, Tag(tag='function')], typing.Annotated[langchain_core.messages.tool.ToolMessage, Tag(tag='tool')], typing.Annotated[langchain_core.messages.ai.AIMessageChunk, Tag(tag='AIMessageChunk')], typing.Annotated[langchain_core.messages.human.HumanMessageChunk, Tag(tag='HumanMessageChunk')], typing.Annotated[langchain_core.messages.chat.ChatMessageChunk, Tag(tag='ChatMessageChunk')], typing.Annotated[langchain_core.messages.system.SystemMessageChunk, Tag(tag='SystemMessageChunk')], typing.Annotated[langchain_core.messages.function.FunctionMessageChunk, Tag(tag='FunctionMessageChunk')], typing.Annotated[langchain_core.messages.tool.ToolMessageChunk, Tag(tag='ToolMessageChunk')]], FieldInfo(annotation=NoneType, required=True, discriminator=Discriminator(discriminator=<function _get_type at 0x000001FA4F6AE3E0>, custom_error_type=None, custom_error_message=None, custom_error_context=None))]], 'agent_scratchpad': list[typing.Annotated[typing.Union[typing.Annotated[langchain_core.messages.ai.AIMessage, Tag(tag='ai')], typing.Annotated[langchain_core.messages.human.HumanMessage, Tag(tag='human')], typing.Annotated[langchain_core.messages.chat.ChatMessage, Tag(tag='chat')], typing.Annotated[langchain_core.messages.system.SystemMessage, Tag(tag='system')], typing.Annotated[langchain_core.messages.function.FunctionMessage, Tag(tag='function')], typing.Annotated[langchain_core.messages.tool.ToolMessage, Tag(tag='tool')], typing.Annotated[langchain_core.messages.ai.AIMessageChunk, Tag(tag='AIMessageChunk')], typing.Annotated[langchain_core.messages.human.HumanMessageChunk, Tag(tag='HumanMessageChunk')], typing.Annotated[langchain_core.messages.chat.ChatMessageChunk, Tag(tag='ChatMessageChunk')], typing.Annotated[langchain_core.messages.system.SystemMessageChunk, Tag(tag='SystemMessageChunk')], typing.Annotated[langchain_core.messages.function.FunctionMessageChunk, Tag(tag='FunctionMessageChunk')], typing.Annotated[langchain_core.messages.tool.ToolMessageChunk, Tag(tag='ToolMessageChunk')]], FieldInfo(annotation=NoneType, required=True, discriminator=Discriminator(discriminator=<function _get_type at 0x000001FA4F6AE3E0>, custom_error_type=None, custom_error_message=None, custom_error_context=None))]]}, partial_variables={'chat_history': []}, metadata={'lc_hub_owner': 'hwchase17', 'lc_hub_repo': 'openai-functions-agent', 'lc_hub_commit_hash': 'a1655024b06afbd95d17449f21316291e0726f13dcfaf990cc0d18087ad689a5'}, messages=[SystemMessagePromptTemplate(prompt=PromptTemplate(input_variables=[], input_types={}, partial_variables={}, template='You are a helpful assistant'), additional_kwargs={}), MessagesPlaceholder(variable_name='chat_history', optional=True), HumanMessagePromptTemplate(prompt=PromptTemplate(input_variables=['input'], input_types={}, partial_variables={}, template='{input}'), additional_kwargs={}), MessagesPlaceholder(variable_name='agent_scratchpad')])"
      ]
     },
     "execution_count": 19,
     "metadata": {},
     "output_type": "execute_result"
    }
   ],
   "source": [
    "from langsmith import Client\n",
    "client = Client(api_key=LANGSMITH_API_KEY)\n",
    "prompt =client.pull_prompt(\"hwchase17/openai-functions-agent\",include_model=True)\n",
    "prompt"
   ]
  },
  {
   "cell_type": "code",
   "execution_count": 20,
   "id": "c7fced1c",
   "metadata": {},
   "outputs": [],
   "source": [
    "from langchain.agents import create_tool_calling_agent\n",
    "agent = create_tool_calling_agent(llm,tool,prompt)"
   ]
  },
  {
   "cell_type": "code",
   "execution_count": 21,
   "id": "3ec0371b",
   "metadata": {},
   "outputs": [],
   "source": [
    "from langchain.agents import AgentExecutor\n",
    "agent_executor = AgentExecutor(agent=agent, tools=tool, verbose=True)"
   ]
  },
  {
   "cell_type": "code",
   "execution_count": 22,
   "id": "ec0af8ce",
   "metadata": {},
   "outputs": [
    {
     "name": "stdout",
     "output_type": "stream",
     "text": [
      "\n",
      "\n",
      "\u001b[1m> Entering new AgentExecutor chain...\u001b[0m\n",
      "\u001b[32;1m\u001b[1;3m\n",
      "Invoking: `tavily_search_results_json` with `{'query': 'Ravi Avaiya'}`\n",
      "\n",
      "\n",
      "\u001b[0m\u001b[36;1m\u001b[1;3m[{'title': 'Portfolio - Ravi Avaiya', 'url': 'https://raviavaiya-portfolio.vercel.app/project-details.html', 'content': \"I'm Ravi Avaiya, a dedicated web developer with a passion for crafting exceptional digital experiences. With expertise in a variety of technologies, I\", 'score': 0.76617163}, {'title': 'Ravi Avaiya | Portfolio', 'url': 'https://raviavaiya-portfolio.netlify.app/', 'content': \"I'm Ravi Avaiya, a dedicated Data Scientist with a passion for crafting exceptional digital experiences.\\n        With expertise in a variety of technologies, I specialize in Data Science. [...] Ravi Avaiya\\n\\nI'm a Data Scientist\\n\\nAbout Me\\n\\nPassionate Data Scientist Crafting Engaging Digital Experiences\\n\\nHappy Clients Successfully delivered quality services to satisfied clients.\\n\\nProjects Completed diverse projects with excellence and precision.\\n\\nYears of experience Bringing two years of expertise in the industry.\\n\\nAwards Recognized with five prestigious awards for outstanding work.\\n\\nMy Resume [...] As a chatbot developer, I build AI-driven chatbots that offer efficient, accurate,\\n                and personalized user experiences across various platforms, ensuring smooth interaction and customer\\n                satisfaction.\\n\\nMy Skills\\n\\nUnleashing the Power of Skills: Showcasing a Diverse Arsenal of Expertise, Innovation, and\\n            Problem-Solving. Explore a Spectrum of Proficiencies that Drive Results and Fuel Success\\n\\nProjects\", 'score': 0.7552947}, {'title': 'Ravi Avaiya raviavaiya - GitHub', 'url': 'https://github.com/raviavaiya', 'content': 'You must be logged in to block users.\\n\\nContact GitHub support about this user’s behavior.\\n        Learn more about reporting abuse.\\n\\nनमस्ते 🙏🏻, Hi there 👋 I am Ravi Avaiya!\\n\\n\\n\\n🔭 I’m currently working on AI/ML Projects\\n\\n🌱 I’m currently learning Python | FastAPI | LangChain | Prompt Engineering\\n\\n💬 Ask me about Python, AI, Data Science, Machine Learning, LangChain, RAG\\n\\n📫 How to reach me:\\n\\n⚡ Fun fact: I love building communities and mentoring beginners!\\n\\n🛠️ Tech Stack\\n\\n👨\\u200d💻 Languages [...] Navigation Menu\\n\\nSearch code, repositories, users, issues, pull requests...\\n\\nProvide feedback\\n\\nWe read every piece of feedback, and take your input very seriously.\\n\\nSaved searches\\n\\nUse saved searches to filter your results more quickly\\n\\nTo see all available qualifiers, see our documentation.\\n\\n\\n\\nRavi Avaiya\\n        \\n\\n          raviavaiya\\n\\nBlock or report raviavaiya\\n\\nPrevent this user from interacting with your repositories and sending you notifications.\\n          Learn more about blocking users. [...] Vibe Coding.....\\n\\nHTML\\n\\nFooter\\n\\nFooter navigation', 'score': 0.6852132}, {'title': 'Ravi Avaiya | Novice - Kaggle', 'url': 'https://www.kaggle.com/raviavaiya', 'content': 'Results-driven Machine Learning Intern with expertise in Generative AI, Natural Language Processing (NLP), and predictive modeling.', 'score': 0.6180666}, {'title': 'Ravi Avaiya - Surat, Gujarat, India | Professional Profile | LinkedIn', 'url': 'https://in.linkedin.com/in/ravi-avaiya-059b82249', 'content': 'I have successfully completed my BSc.IT graduation with a strong foundation in Information Technology and a keen interest in Data Science.', 'score': 0.61251885}]\u001b[0m\u001b[32;1m\u001b[1;3m\n",
      "Invoking: `tavily_search_results_json` with `{'query': 'Ravi Avaiya Portfolio'}`\n",
      "\n",
      "\n",
      "\u001b[0m\u001b[36;1m\u001b[1;3m[{'title': 'Ravi Avaiya | Portfolio', 'url': 'https://raviavaiya-portfolio.netlify.app/', 'content': \"GUJARAT SECONDARY AND HIGHER SECONDARY EDUCATION BOARD\\n\\nI achieved remarkable success in my 10th board (SSC) exam, securing an impressive 86% overall in my\\n                studies at Gujarat Secondary and Higher Secondary Board (Ashadeep Group of Schools, Surat).\\n\\nThis demonstrates my commitment to academic excellence and a strong foundation in various subjects.\\n\\nCertification Education Degrees\\n\\nDiploma in Data Science & Artificial Intelligence\\n\\n2024 [...] I am made the best choice for pursuing degree education with JAIN (Deemed-to-be University).It has\\n                high-end lab facilities, encouraging faculty and an overall inspiring campus that brings out the best in\\n                you.\\n\\nBachelor of Computer Science ( It )\\n\\n2021 - 2024\\n\\nUKA Tarsadia University , Bardoli, Gujarat, India [...] Unleashing the Power of Skills: Showcasing a Diverse Arsenal of Expertise, Innovation, and\\n            Problem-Solving. Explore a Spectrum of Proficiencies that Drive Results and Fuel Success\\n\\nCar Price Prediction\\n\\nMachine Learning\\n\\nAmazon Prime analysis\\n\\nPowerBI\\n\\nContact Me\\n\\nGet in touch for collaboration, support, or any inquiries - let's bring your vision to life!\\n\\nSocial Profiles\\n\\nEmail Me\\n\\nraviavaiya03@gmail.com\\n\\nCall Me\\n\\n+91 8799559020\\n\\nRavi Avaiya\", 'score': 0.6929958}, {'title': 'Portfolio - Ravi Avaiya', 'url': 'https://raviavaiya-portfolio.vercel.app/project-details.html', 'content': 'Ravi Avaiya - Data Scientist | Crafting innovative Data Solutions tailored to your needs. Expert in Data Science. Elevate your online presence with custom', 'score': 0.67885995}, {'title': 'Ravi Avaiya | Linktree', 'url': 'https://linktr.ee/raviavaiya', 'content': 'Ravi Avaiya. Data analytics and visualization professional. LinkedIn ... raviavaiya-portfolio.vercel.app/. Ravi Avaiya - Data Scientist | Crafting', 'score': 0.6729558}, {'title': 'MyPortfolio/Ravi Avaiya-Resume.pdf at main - GitHub', 'url': 'https://github.com/raviavaiya/MyPortfolio/blob/main/Ravi%20Avaiya-Resume.pdf', 'content': 'Contribute to raviavaiya/MyPortfolio development by creating an account on GitHub.', 'score': 0.6271529}, {'title': 'Ravi Avaiya - Surat, Gujarat, India | Professional Profile | LinkedIn', 'url': 'https://in.linkedin.com/in/ravi-avaiya-059b82249', 'content': 'I have successfully completed my BSc.IT graduation with a strong foundation in Information Technology and a keen interest in Data Science.', 'score': 0.60666215}]\u001b[0m\u001b[32;1m\u001b[1;3m\n",
      "Invoking: `tavily_search_results_json` with `{'query': 'Ravi Avaiya portfolio website'}`\n",
      "\n",
      "\n",
      "\u001b[0m\u001b[36;1m\u001b[1;3m[{'title': 'Ravi Avaiya - Surat, Gujarat, India | Professional Profile | LinkedIn', 'url': 'https://in.linkedin.com/in/ravi-avaiya-059b82249', 'content': 'Websites. Personal Website: https://raviavaiya-portfolio.vercel.app/. Personal Website: https://linktr.ee/raviavaiya.', 'score': 0.87807417}, {'title': 'Ravi Avaiya | Linktree', 'url': 'https://linktr.ee/raviavaiya', 'content': 'Ravi Avaiya. Data analytics and visualization professional. LinkedIn Profile · Professional Website ... raviavaiya-portfolio.vercel.app/. Ravi Avaiya - Data', 'score': 0.78393924}, {'title': 'Ravi Avaiya | Portfolio', 'url': 'https://raviavaiya-portfolio.netlify.app/', 'content': \"Unleashing the Power of Skills: Showcasing a Diverse Arsenal of Expertise, Innovation, and\\n            Problem-Solving. Explore a Spectrum of Proficiencies that Drive Results and Fuel Success\\n\\nCar Price Prediction\\n\\nMachine Learning\\n\\nAmazon Prime analysis\\n\\nPowerBI\\n\\nContact Me\\n\\nGet in touch for collaboration, support, or any inquiries - let's bring your vision to life!\\n\\nSocial Profiles\\n\\nEmail Me\\n\\nraviavaiya03@gmail.com\\n\\nCall Me\\n\\n+91 8799559020\\n\\nRavi Avaiya [...] Step into a World of Experience, Expertise, and Education, Where Achievements Unfold and Skills Shine.\\n            Explore the Journey that Shapes My Professional Profile and Unveils a Passion for Growth and Innovation\\n\\nHigher Education Degrees\\n\\nMCA In Computer Science & It\\n\\n2024 - Current\\n\\nJAIN (Deemed-to-be University), Bengaluru, Karnataka, India [...] GUJARAT SECONDARY AND HIGHER SECONDARY EDUCATION BOARD\\n\\nI achieved remarkable success in my 10th board (SSC) exam, securing an impressive 86% overall in my\\n                studies at Gujarat Secondary and Higher Secondary Board (Ashadeep Group of Schools, Surat).\\n\\nThis demonstrates my commitment to academic excellence and a strong foundation in various subjects.\\n\\nCertification Education Degrees\\n\\nDiploma in Data Science & Artificial Intelligence\\n\\n2024\", 'score': 0.6155738}, {'title': 'MyPortfolio/Ravi Avaiya-Resume.pdf at main - GitHub', 'url': 'https://github.com/raviavaiya/MyPortfolio/blob/main/Ravi%20Avaiya-Resume.pdf', 'content': 'Contribute to raviavaiya/MyPortfolio development by creating an account on GitHub.', 'score': 0.59796065}, {'title': 'Portfolio - Ravi Avaiya', 'url': 'https://raviavaiya-portfolio.vercel.app/project-details.html', 'content': 'Ravi Avaiya - Data Scientist | Crafting innovative Data Solutions tailored to your needs. Expert in Data Science. Elevate your online presence with custom', 'score': 0.58123237}]\u001b[0m\u001b[32;1m\u001b[1;3mhttps://raviavaiya-portfolio.vercel.app/  \u001b[0m\n",
      "\n",
      "\u001b[1m> Finished chain.\u001b[0m\n"
     ]
    },
    {
     "data": {
      "text/plain": [
       "{'input': 'what is Ravi Avaiya',\n",
       " 'chat_history': [],\n",
       " 'output': 'https://raviavaiya-portfolio.vercel.app/  '}"
      ]
     },
     "execution_count": 22,
     "metadata": {},
     "output_type": "execute_result"
    }
   ],
   "source": [
    "agent_executor.invoke({\"input\":\"what is Ravi Avaiya\",\"chat_history\": []})"
   ]
  },
  {
   "cell_type": "markdown",
   "id": "b8896770",
   "metadata": {},
   "source": [
    "1. RAG Tool\n",
    "\n",
    "2. ReAct\n",
    "\n",
    "3. Custom tool with ReAct agent\n",
    "\n",
    "4. agent code from the latest version (V0.2 and V0.3)"
   ]
  },
  {
   "cell_type": "code",
   "execution_count": 23,
   "id": "d4e6bc9b",
   "metadata": {},
   "outputs": [
    {
     "name": "stderr",
     "output_type": "stream",
     "text": [
      "USER_AGENT environment variable not set, consider setting it to identify your requests.\n"
     ]
    }
   ],
   "source": [
    "from langchain_community.document_loaders import WebBaseLoader\n",
    "from langchain_community.vectorstores import FAISS\n",
    "from langchain.text_splitter import RecursiveCharacterTextSplitter"
   ]
  },
  {
   "cell_type": "code",
   "execution_count": 24,
   "id": "1b26e9fc",
   "metadata": {},
   "outputs": [],
   "source": [
    "loader = WebBaseLoader(\"https://python.langchain.com/v0.1/docs/modules/agents/agent_types/\")\n",
    "docs = loader.load()"
   ]
  },
  {
   "cell_type": "code",
   "execution_count": 25,
   "id": "a5a56e0f",
   "metadata": {},
   "outputs": [
    {
     "data": {
      "text/plain": [
       "[Document(metadata={'source': 'https://python.langchain.com/v0.1/docs/modules/agents/agent_types/', 'title': 'Types | 🦜️🔗 LangChain', 'description': 'This categorizes all the available agents along a few dimensions.', 'language': 'en'}, page_content=\"\\n\\n\\n\\n\\nTypes | 🦜️🔗 LangChain\\n\\n\\n\\n\\n\\n\\n\\nSkip to main contentThis is documentation for LangChain v0.1, which is no longer actively maintained. Check out the docs for the latest version here.ComponentsIntegrationsGuidesAPI ReferenceMorePeopleVersioningContributingTemplatesCookbooksTutorialsYouTubev0.1Latestv0.2v0.1🦜️🔗LangSmithLangSmith DocsLangServe GitHubTemplates GitHubTemplates HubLangChain HubJS/TS Docs💬SearchModel I/OPromptsChat modelsLLMsOutput parsersRetrievalDocument loadersText splittersEmbedding modelsVector storesRetrieversIndexingCompositionToolsAgentsQuickstartConceptsTypesTool callingOpenAI toolsOpenAI functionsXML AgentJSON Chat AgentStructured chatReActSelf-ask with searchOpenAI assistantsAgentshow_toChainsMoreComponentsThis is documentation for LangChain v0.1, which is no longer actively maintained.For the current stable version, see this version (Latest).CompositionAgentsTypesAgent TypesThis categorizes all the available agents along a few dimensions.Intended Model TypeWhether this agent is intended for Chat Models (takes in messages, outputs message) or LLMs (takes in string, outputs string). The main thing this affects is the prompting strategy used. You can use an agent with a different type of model than it is intended for, but it likely won't produce results of the same quality.Supports Chat HistoryWhether or not these agent types support chat history. If it does, that means it can be used as a chatbot. If it does not, then that means it's more suited for single tasks. Supporting chat history generally requires better models, so earlier agent types aimed at worse models may not support it.Supports Multi-Input ToolsWhether or not these agent types support tools with multiple inputs. If a tool only requires a single input, it is generally easier for an LLM to know how to invoke it. Therefore, several earlier agent types aimed at worse models may not support them.Supports Parallel Function CallingHaving an LLM call multiple tools at the same time can greatly speed up agents whether there are tasks that are assisted by doing so. However, it is much more challenging for LLMs to do this, so some agent types do not support this.Required Model ParamsWhether this agent requires the model to support any additional parameters. Some agent types take advantage of things like OpenAI function calling, which require other model parameters. If none are required, then that means that everything is done via promptingWhen to UseOur commentary on when you should consider using this agent type.Agent TypeIntended Model TypeSupports Chat HistorySupports Multi-Input ToolsSupports Parallel Function CallingRequired Model ParamsWhen to UseAPITool CallingChat✅✅✅toolsIf you are using a tool-calling modelRefOpenAI ToolsChat✅✅✅tools[Legacy] If you are using a recent OpenAI model (1106 onwards). Generic Tool Calling agent recommended instead.RefOpenAI FunctionsChat✅✅functions[Legacy] If you are using an OpenAI model, or an open-source model that has been finetuned for function calling and exposes the same functions parameters as OpenAI. Generic Tool Calling agent recommended insteadRefXMLLLM✅If you are using Anthropic models, or other models good at XMLRefStructured ChatChat✅✅If you need to support tools with multiple inputsRefJSON ChatChat✅If you are using a model good at JSONRefReActLLM✅If you are using a simple modelRefSelf Ask With SearchLLMIf you are using a simple model and only have one search toolRefHelp us out by providing feedback on this documentation page:PreviousConceptsNextTool callingCommunityDiscordTwitterGitHubPythonJS/TSMoreHomepageBlogYouTubeCopyright © 2024 LangChain, Inc.\\n\\n\\n\\n\")]"
      ]
     },
     "execution_count": 25,
     "metadata": {},
     "output_type": "execute_result"
    }
   ],
   "source": [
    "docs"
   ]
  },
  {
   "cell_type": "code",
   "execution_count": 26,
   "id": "ab246c88",
   "metadata": {},
   "outputs": [],
   "source": [
    "documents = RecursiveCharacterTextSplitter(\n",
    "    chunk_size=1000,\n",
    "    chunk_overlap=200\n",
    ").split_documents(docs)"
   ]
  },
  {
   "cell_type": "code",
   "execution_count": 27,
   "id": "ecfabfee",
   "metadata": {},
   "outputs": [],
   "source": [
    "vector = FAISS.from_documents(documents, enbeddings)\n",
    "retriver = vector.as_retriever()"
   ]
  },
  {
   "cell_type": "code",
   "execution_count": 28,
   "id": "9065d1a6",
   "metadata": {},
   "outputs": [
    {
     "data": {
      "text/plain": [
       "Document(id='9e7f017f-e977-42f7-9985-e625836eeee1', metadata={'source': 'https://python.langchain.com/v0.1/docs/modules/agents/agent_types/', 'title': 'Types | 🦜️🔗 LangChain', 'description': 'This categorizes all the available agents along a few dimensions.', 'language': 'en'}, page_content='it.Supports Multi-Input ToolsWhether or not these agent types support tools with multiple inputs. If a tool only requires a single input, it is generally easier for an LLM to know how to invoke it. Therefore, several earlier agent types aimed at worse models may not support them.Supports Parallel Function CallingHaving an LLM call multiple tools at the same time can greatly speed up agents whether there are tasks that are assisted by doing so. However, it is much more challenging for LLMs to do this, so some agent types do not support this.Required Model ParamsWhether this agent requires the model to support any additional parameters. Some agent types take advantage of things like OpenAI function calling, which require other model parameters. If none are required, then that means that everything is done via promptingWhen to UseOur commentary on when you should consider using this agent type.Agent TypeIntended Model TypeSupports Chat HistorySupports Multi-Input ToolsSupports Parallel')"
      ]
     },
     "execution_count": 28,
     "metadata": {},
     "output_type": "execute_result"
    }
   ],
   "source": [
    "retriver.invoke(\"What is Agent Type?\")[0]"
   ]
  },
  {
   "cell_type": "code",
   "execution_count": 29,
   "id": "d9309a76",
   "metadata": {},
   "outputs": [],
   "source": [
    "from langchain.tools.retriever import create_retriever_tool\n",
    "retriver_tool = create_retriever_tool(\n",
    "    retriver,\n",
    "    \"agent types search\",\n",
    "    \"Search for agent types\",\n",
    ")"
   ]
  },
  {
   "cell_type": "code",
   "execution_count": 30,
   "id": "37cf463d",
   "metadata": {},
   "outputs": [],
   "source": [
    "tools = [search, retriver_tool]"
   ]
  },
  {
   "cell_type": "code",
   "execution_count": 31,
   "id": "9cb48c34",
   "metadata": {},
   "outputs": [],
   "source": [
    "from langchain.agents import create_tool_calling_agent\n",
    "\n",
    "agent = create_tool_calling_agent(llm, tools, prompt)"
   ]
  },
  {
   "cell_type": "code",
   "execution_count": 32,
   "id": "1548cd53",
   "metadata": {},
   "outputs": [],
   "source": [
    "from langchain.agents import AgentExecutor\n",
    "\n",
    "agent_executor = AgentExecutor(agent=agent, tools=tools, verbose=True)"
   ]
  },
  {
   "cell_type": "code",
   "execution_count": 33,
   "id": "4933ffda",
   "metadata": {},
   "outputs": [
    {
     "name": "stdout",
     "output_type": "stream",
     "text": [
      "\n",
      "\n",
      "\u001b[1m> Entering new AgentExecutor chain...\u001b[0m\n",
      "\u001b[32;1m\u001b[1;3m\n",
      "Invoking: `agent types search` with `{'query': 'Agent Type'}`\n",
      "\n",
      "\n",
      "\u001b[0m\u001b[33;1m\u001b[1;3mit.Supports Multi-Input ToolsWhether or not these agent types support tools with multiple inputs. If a tool only requires a single input, it is generally easier for an LLM to know how to invoke it. Therefore, several earlier agent types aimed at worse models may not support them.Supports Parallel Function CallingHaving an LLM call multiple tools at the same time can greatly speed up agents whether there are tasks that are assisted by doing so. However, it is much more challenging for LLMs to do this, so some agent types do not support this.Required Model ParamsWhether this agent requires the model to support any additional parameters. Some agent types take advantage of things like OpenAI function calling, which require other model parameters. If none are required, then that means that everything is done via promptingWhen to UseOur commentary on when you should consider using this agent type.Agent TypeIntended Model TypeSupports Chat HistorySupports Multi-Input ToolsSupports Parallel\n",
      "\n",
      "stable version, see this version (Latest).CompositionAgentsTypesAgent TypesThis categorizes all the available agents along a few dimensions.Intended Model TypeWhether this agent is intended for Chat Models (takes in messages, outputs message) or LLMs (takes in string, outputs string). The main thing this affects is the prompting strategy used. You can use an agent with a different type of model than it is intended for, but it likely won't produce results of the same quality.Supports Chat HistoryWhether or not these agent types support chat history. If it does, that means it can be used as a chatbot. If it does not, then that means it's more suited for single tasks. Supporting chat history generally requires better models, so earlier agent types aimed at worse models may not support it.Supports Multi-Input ToolsWhether or not these agent types support tools with multiple inputs. If a tool only requires a single input, it is generally easier for an LLM to know how to invoke it.\n",
      "\n",
      "is done via promptingWhen to UseOur commentary on when you should consider using this agent type.Agent TypeIntended Model TypeSupports Chat HistorySupports Multi-Input ToolsSupports Parallel Function CallingRequired Model ParamsWhen to UseAPITool CallingChat✅✅✅toolsIf you are using a tool-calling modelRefOpenAI ToolsChat✅✅✅tools[Legacy] If you are using a recent OpenAI model (1106 onwards). Generic Tool Calling agent recommended instead.RefOpenAI FunctionsChat✅✅functions[Legacy] If you are using an OpenAI model, or an open-source model that has been finetuned for function calling and exposes the same functions parameters as OpenAI. Generic Tool Calling agent recommended insteadRefXMLLLM✅If you are using Anthropic models, or other models good at XMLRefStructured ChatChat✅✅If you need to support tools with multiple inputsRefJSON ChatChat✅If you are using a model good at JSONRefReActLLM✅If you are using a simple modelRefSelf Ask With SearchLLMIf you are using a simple model and only have\n",
      "\n",
      "Types | 🦜️🔗 LangChain\u001b[0m\u001b[32;1m\u001b[1;3mAn agent type is a way to categorize different types of AI agents based on their capabilities and intended use. \n",
      "\n",
      "Here's a breakdown of some key characteristics of agent types:\n",
      "\n",
      "* **Intended Model Type:**  This indicates whether the agent is designed for chat models (like those used in conversational AI) or LLMs (large language models). \n",
      "* **Supports Chat History:**  Some agents can remember past interactions in a conversation, making them suitable for chatbot applications. Others are designed for single, isolated tasks.\n",
      "* **Supports Multi-Input Tools:** This refers to the agent's ability to use tools that require multiple inputs.\n",
      "* **Supports Parallel Function Calling:**  Advanced agents can call multiple tools simultaneously, speeding up task completion. \n",
      "* **Required Model Params:** Some agents might need specific parameters or capabilities from the underlying model to function correctly.\n",
      "\n",
      "\n",
      "Understanding these characteristics helps you choose the right agent type for your specific needs.\n",
      "\u001b[0m\n",
      "\n",
      "\u001b[1m> Finished chain.\u001b[0m\n"
     ]
    },
    {
     "data": {
      "text/plain": [
       "{'input': 'What is Agent Type?',\n",
       " 'chat_history': [],\n",
       " 'output': \"An agent type is a way to categorize different types of AI agents based on their capabilities and intended use. \\n\\nHere's a breakdown of some key characteristics of agent types:\\n\\n* **Intended Model Type:**  This indicates whether the agent is designed for chat models (like those used in conversational AI) or LLMs (large language models). \\n* **Supports Chat History:**  Some agents can remember past interactions in a conversation, making them suitable for chatbot applications. Others are designed for single, isolated tasks.\\n* **Supports Multi-Input Tools:** This refers to the agent's ability to use tools that require multiple inputs.\\n* **Supports Parallel Function Calling:**  Advanced agents can call multiple tools simultaneously, speeding up task completion. \\n* **Required Model Params:** Some agents might need specific parameters or capabilities from the underlying model to function correctly.\\n\\n\\nUnderstanding these characteristics helps you choose the right agent type for your specific needs.\\n\"}"
      ]
     },
     "execution_count": 33,
     "metadata": {},
     "output_type": "execute_result"
    }
   ],
   "source": [
    "agent_executor.invoke({\"input\":\"What is Agent Type?\",\"chat_history\": []})"
   ]
  },
  {
   "cell_type": "code",
   "execution_count": 34,
   "id": "f672bef9",
   "metadata": {},
   "outputs": [],
   "source": [
    "from langchain.utilities import GoogleSerperAPIWrapper\n",
    "from langchain.agents import Tool\n",
    "from langchain_core.prompts import PromptTemplate\n",
    "from langchain.agents import AgentExecutor, create_react_agent"
   ]
  },
  {
   "cell_type": "code",
   "execution_count": 35,
   "id": "e4e07818",
   "metadata": {},
   "outputs": [],
   "source": [
    "google_search = GoogleSerperAPIWrapper()\n",
    "tools = [\n",
    "    Tool(\n",
    "        name=\"Intermediate Answer\",\n",
    "        func=google_search.run,\n",
    "        description=\"useful for when you need to ask with search engine. \",\n",
    "        verbose=True\n",
    "    )\n",
    "]"
   ]
  },
  {
   "cell_type": "code",
   "execution_count": 36,
   "id": "9b34837d",
   "metadata": {},
   "outputs": [],
   "source": [
    "template ='''Answer the following question as best as you can. You have access to the following tools:\n",
    "{tools}\n",
    "Use the following format:\n",
    "Question: the input question you must answer\n",
    "Thought: you should always think about what to do\n",
    "Action: the action to take, should be one of [{tool_names}]\n",
    "Action Input: the input to the action\n",
    "Observation: the result of the action\n",
    "... (this Thought/Action/Action Input/Observation can repeat N times)\n",
    "Thought: I now know the final answer\n",
    "Final Answer: the final answer to the original input question\n",
    "Begin!\n",
    "Question: {input}\n",
    "Thought: {agent_scratchpad}'''"
   ]
  },
  {
   "cell_type": "code",
   "execution_count": 37,
   "id": "5f96800e",
   "metadata": {},
   "outputs": [],
   "source": [
    "prompt = PromptTemplate.from_template(template)"
   ]
  },
  {
   "cell_type": "code",
   "execution_count": 38,
   "id": "f36496b4",
   "metadata": {},
   "outputs": [],
   "source": [
    "search_agent = create_react_agent(llm, tools, prompt)"
   ]
  },
  {
   "cell_type": "code",
   "execution_count": 39,
   "id": "598a3d62",
   "metadata": {},
   "outputs": [],
   "source": [
    "agent_executor = AgentExecutor(agent=search_agent, tools=tools, verbose=True, return_intermediate_steps=True)"
   ]
  },
  {
   "cell_type": "code",
   "execution_count": 40,
   "id": "e7813c6b",
   "metadata": {},
   "outputs": [
    {
     "name": "stdout",
     "output_type": "stream",
     "text": [
      "\n",
      "\n",
      "\u001b[1m> Entering new AgentExecutor chain...\u001b[0m\n",
      "\u001b[32;1m\u001b[1;3mThought: I need to figure out who won the 2007 T20 Cricket World Cup and their hometown. I also need to find their score in the final.\n",
      "Action: Intermediate Answer\n",
      "Action Input: Who won the 2007 T20 Cricket World Cup?\u001b[0m\u001b[36;1m\u001b[1;3mIND vs PAK ; Series result, India won the 2007/08 ICC World Twenty20 ; Match number, T20I no. 46 ; Hours of play (local time), First Session 14:00-15:20, Interval ... India won the tournament, beating Pakistan in the final at Johannesburg. 2007 ICC World Twenty20. Tournament logo. Dates, 11 – ... Final, Johannesburg, September 24, 2007, ICC World Twenty20, IND Flag IND 157/5, PAK Flag PAK (19.3/20 ov, T:158) 152, India won by 5 runs. India won by defeating Pakistan by five runs. The teams had previously played each other in a Group-D match of the tournament, which was also won by India. The Indian men's cricket team won the T20 World Cup in 2007 and 2024. England and the West Indies have also two titles each. Get the T20 World Cup winners ... ICC World T20, 2007 Schedule, Match Timings, Venue Details, Upcoming Cricket Matches and Recent Results on Cricbuzz.com. In 2007, the Indian cricket team made history by winning the first-ever ICC T20 World Cup, held in South Africa. Under the leadership of MS ... 2007. Host Country: South Africa; Scores: India -157/5; Pakistan - 152/10. The inaugural ICC Men's T20 ... Throwback to 2007! Remember that epic T20 World Cup final where India clinched the trophy against Pakistan? The Indian men's cricket team won the first T20 World Cup held in South Africa in 2007 while England are the inaugural World Twenty20 women's champions.\u001b[0m\u001b[32;1m\u001b[1;3mThought: I can see from the results that India won the 2007 T20 Cricket World Cup. I need to find the hometown of the captain of the Indian team at that time. \n",
      "Action: Intermediate Answer\n",
      "Action Input: Who was the captain of the Indian cricket team in 2007 T20 World Cup?\u001b[0m\u001b[36;1m\u001b[1;3mMS Dhoni† (c) Wicketkeeper Batter Age: 26y 32d Batting: Right hand Bat Bowling: Right arm Medium Yuvraj Singh, player page headshot cutout, 2024 Group E ; New Zealand. 190 (20 overs). v. India 180/9 (20 overs) ; Brendon McCullum 45 (31) Harbhajan Singh 2/24 (4 overs). Gautam Gambhir 51 (33) Daniel Vettori ... Dhoni has captained the most international matches and is the most successful Indian captain. He has led India to victory in the 2007 ICC World Twenty20, the ... In 2007, India under Dhoni's leadership, won the inaugural T20 World Cup. A young team displayed resilience, culminating in a thrilling final win over Pakistan. Under the leadership of MS Dhoni, India won the 2007 ICC T20 World Cup. ; 1. 2007-2016 – MS Dhoni. MS Dhoni-led India won the 2007 T20 World Cup ... Dhoni was already identified as a possible captaincy candidate and BCCI had decided to groom him for the post. He was made vice captain to Rahul Dravid. The post includes a photo of Gandhi posing with the 2007 Indian cricket team led by then-captain Mahendra Singh Dhoni. A user on X (formerly ... MS Dhoni, a young and inexperienced captain at the time, made history by leading India to their fiirst T20 World Cup title. With the bat, he ... MS Dhoni - still the only captain to win all three ICC white ball tournaments: 2007 T20 World Cup, 2011 CWC, 2013 Champions Trophy. · An age ...\u001b[0m\u001b[32;1m\u001b[1;3mThought:  I know India won the 2007 T20 World Cup and MS Dhoni was their captain. I need to find MS Dhoni's hometown.\n",
      "Action: Intermediate Answer\n",
      "Action Input: What is the hometown of MS Dhoni?\u001b[0m\u001b[36;1m\u001b[1;3mEarly life. Dhoni was born on 7 July 1981 in Ranchi, Bihar (now in Jharkhand) in a Hindu Rajput family to Pan Singh and Devaki Devi. His parents hailed from Lwali village in Uttar Pradesh (now Uttarakhand) and he was the youngest of three children. His family spells the surname as \"Dhauni\". M.S. Dhoni (born July 7, 1981, Ranchi, Bihar [now Jharkhand] state, India) is an Indian cricketer whose rise to prominence in the early 21st century ... MS Dhoni was born on July 7, 1981, in Ranchi, Bihar (now Jharkhand). His father, Pan Singh Dhoni, worked in MECON, a Ministry of Steel PSU, and his mother, ... He was born on 7 July 1981 in Ranchi, Jharkhand to Pan Singh and Devaki Devi. His paternal village Lvali is in the Lamgarha block of the Almora District of ... MS Dhoni led India to three ICC titles but he is nearly as famous for his exploits in the yellow of Chennai Super Kings in the Indian Premier League. Dhoni was born on 7 July 1981 in Ranchi, Bihar (now in Jharkhand) in a Hindu Rajput family to Pan Singh and Devaki Devi. Continue Reading. Dhoni was born on July 7, 1981 in Ranchi, Bihar (now Jharkhand) to Pan Singh and Devaki Devi. He has a sister Jayanti and a brother Narendra Singh Dhoni. Indian wicket-keeper who served as captain of India's Test team from 2008-2014. He was also limited-overs captain from 2007-2016. He led Chennai to Indian ... Dhoni was born on 7 July 1981 in Ranchi, Bihar (now in Jharkhand) in a Hindu Rajput family to Pan Singh and Devaki Devi. His parents hailed from Lwali village ... Hometown. Ranchi, Jharkhand, India. Schools. - DAV Jawahar Vidya Mandir ... Family. Spouse(s). - Sakshi Dhoni. MS Dhoni with his wife Sakshi Dhoni. Parents ...\u001b[0m\u001b[32;1m\u001b[1;3mThought: Thought: I now know MS Dhoni's hometown is Ranchi, Jharkhand, India.\n",
      "Final Answer: The hometown of the captain of the 2007 T20 Cricket World Cup winning team, MS Dhoni, is Ranchi, Jharkhand, India. His score in the final was not mentioned in the results. \n",
      "\n",
      "\n",
      "\u001b[0m\n",
      "\n",
      "\u001b[1m> Finished chain.\u001b[0m\n"
     ]
    },
    {
     "data": {
      "text/plain": [
       "{'input': 'Where is the hometown of 2007 T20 cricket world cup caption winner and his score?',\n",
       " 'output': 'The hometown of the captain of the 2007 T20 Cricket World Cup winning team, MS Dhoni, is Ranchi, Jharkhand, India. His score in the final was not mentioned in the results.',\n",
       " 'intermediate_steps': [(AgentAction(tool='Intermediate Answer', tool_input='Who won the 2007 T20 Cricket World Cup?', log='Thought: I need to figure out who won the 2007 T20 Cricket World Cup and their hometown. I also need to find their score in the final.\\nAction: Intermediate Answer\\nAction Input: Who won the 2007 T20 Cricket World Cup?'),\n",
       "   \"IND vs PAK ; Series result, India won the 2007/08 ICC World Twenty20 ; Match number, T20I no. 46 ; Hours of play (local time), First Session 14:00-15:20, Interval ... India won the tournament, beating Pakistan in the final at Johannesburg. 2007 ICC World Twenty20. Tournament logo. Dates, 11 – ... Final, Johannesburg, September 24, 2007, ICC World Twenty20, IND Flag IND 157/5, PAK Flag PAK (19.3/20 ov, T:158) 152, India won by 5 runs. India won by defeating Pakistan by five runs. The teams had previously played each other in a Group-D match of the tournament, which was also won by India. The Indian men's cricket team won the T20 World Cup in 2007 and 2024. England and the West Indies have also two titles each. Get the T20 World Cup winners ... ICC World T20, 2007 Schedule, Match Timings, Venue Details, Upcoming Cricket Matches and Recent Results on Cricbuzz.com. In 2007, the Indian cricket team made history by winning the first-ever ICC T20 World Cup, held in South Africa. Under the leadership of MS ... 2007. Host Country: South Africa; Scores: India -157/5; Pakistan - 152/10. The inaugural ICC Men's T20 ... Throwback to 2007! Remember that epic T20 World Cup final where India clinched the trophy against Pakistan? The Indian men's cricket team won the first T20 World Cup held in South Africa in 2007 while England are the inaugural World Twenty20 women's champions.\"),\n",
       "  (AgentAction(tool='Intermediate Answer', tool_input='Who was the captain of the Indian cricket team in 2007 T20 World Cup?', log='Thought: I can see from the results that India won the 2007 T20 Cricket World Cup. I need to find the hometown of the captain of the Indian team at that time. \\nAction: Intermediate Answer\\nAction Input: Who was the captain of the Indian cricket team in 2007 T20 World Cup?'),\n",
       "   \"MS Dhoni† (c) Wicketkeeper Batter Age: 26y 32d Batting: Right hand Bat Bowling: Right arm Medium Yuvraj Singh, player page headshot cutout, 2024 Group E ; New Zealand. 190 (20 overs). v. India 180/9 (20 overs) ; Brendon McCullum 45 (31) Harbhajan Singh 2/24 (4 overs). Gautam Gambhir 51 (33) Daniel Vettori ... Dhoni has captained the most international matches and is the most successful Indian captain. He has led India to victory in the 2007 ICC World Twenty20, the ... In 2007, India under Dhoni's leadership, won the inaugural T20 World Cup. A young team displayed resilience, culminating in a thrilling final win over Pakistan. Under the leadership of MS Dhoni, India won the 2007 ICC T20 World Cup. ; 1. 2007-2016 – MS Dhoni. MS Dhoni-led India won the 2007 T20 World Cup ... Dhoni was already identified as a possible captaincy candidate and BCCI had decided to groom him for the post. He was made vice captain to Rahul Dravid. The post includes a photo of Gandhi posing with the 2007 Indian cricket team led by then-captain Mahendra Singh Dhoni. A user on X (formerly ... MS Dhoni, a young and inexperienced captain at the time, made history by leading India to their fiirst T20 World Cup title. With the bat, he ... MS Dhoni - still the only captain to win all three ICC white ball tournaments: 2007 T20 World Cup, 2011 CWC, 2013 Champions Trophy. · An age ...\"),\n",
       "  (AgentAction(tool='Intermediate Answer', tool_input='What is the hometown of MS Dhoni?', log=\"Thought:  I know India won the 2007 T20 World Cup and MS Dhoni was their captain. I need to find MS Dhoni's hometown.\\nAction: Intermediate Answer\\nAction Input: What is the hometown of MS Dhoni?\"),\n",
       "   'Early life. Dhoni was born on 7 July 1981 in Ranchi, Bihar (now in Jharkhand) in a Hindu Rajput family to Pan Singh and Devaki Devi. His parents hailed from Lwali village in Uttar Pradesh (now Uttarakhand) and he was the youngest of three children. His family spells the surname as \"Dhauni\". M.S. Dhoni (born July 7, 1981, Ranchi, Bihar [now Jharkhand] state, India) is an Indian cricketer whose rise to prominence in the early 21st century ... MS Dhoni was born on July 7, 1981, in Ranchi, Bihar (now Jharkhand). His father, Pan Singh Dhoni, worked in MECON, a Ministry of Steel PSU, and his mother, ... He was born on 7 July 1981 in Ranchi, Jharkhand to Pan Singh and Devaki Devi. His paternal village Lvali is in the Lamgarha block of the Almora District of ... MS Dhoni led India to three ICC titles but he is nearly as famous for his exploits in the yellow of Chennai Super Kings in the Indian Premier League. Dhoni was born on 7 July 1981 in Ranchi, Bihar (now in Jharkhand) in a Hindu Rajput family to Pan Singh and Devaki Devi. Continue Reading. Dhoni was born on July 7, 1981 in Ranchi, Bihar (now Jharkhand) to Pan Singh and Devaki Devi. He has a sister Jayanti and a brother Narendra Singh Dhoni. Indian wicket-keeper who served as captain of India\\'s Test team from 2008-2014. He was also limited-overs captain from 2007-2016. He led Chennai to Indian ... Dhoni was born on 7 July 1981 in Ranchi, Bihar (now in Jharkhand) in a Hindu Rajput family to Pan Singh and Devaki Devi. His parents hailed from Lwali village ... Hometown. Ranchi, Jharkhand, India. Schools. - DAV Jawahar Vidya Mandir ... Family. Spouse(s). - Sakshi Dhoni. MS Dhoni with his wife Sakshi Dhoni. Parents ...')]}"
      ]
     },
     "execution_count": 40,
     "metadata": {},
     "output_type": "execute_result"
    }
   ],
   "source": [
    "agent_executor.invoke({\"input\":\"Where is the hometown of 2007 T20 cricket world cup caption winner and his score?\"})"
   ]
  },
  {
   "cell_type": "code",
   "execution_count": 41,
   "id": "22092f12",
   "metadata": {},
   "outputs": [
    {
     "name": "stdout",
     "output_type": "stream",
     "text": [
      "\n",
      "\n",
      "\u001b[1m> Entering new AgentExecutor chain...\u001b[0m\n",
      "\u001b[32;1m\u001b[1;3mThought: This is a nickname often used to refer to a legendary cricketer. I need to search for who is commonly called \"The God of Cricket\".\n",
      "Action: Intermediate Answer\n",
      "Action Input: Who is called \"The God of Cricket\"\u001b[0m\u001b[36;1m\u001b[1;3mFondly called the “God of Cricket” or “Master Blaster,” Sachin Tendulkar is considered one of the greatest batsmen of all time in the sport that is considered a national institution in India, cricket. Why is Sachin Tendulkar called the god of cricket? Is he called that just in India or is acknowledged all over the world. Sachin Ramesh Tendulkar is an Indian former international cricketer who captained the Indian national team. He is widely regarded as one of the greatest ... Yes, Sachin Tendulkar is often referred to as the \"God of Cricket\" due to his exceptional cricketing skills and achievements throughout his ... Sachin Tendulkar is widely regarded as the \"God of Cricket\" in world. He made his international cricket debut for India in a Test match against Pakistan in ... Indian cricketing legend Sachin Tendulkar is right known as the God of Cricket for his exceptional career in the sport both in terms of numbers ... Comments62. Ankur Singh. \"He plays in a similar manner. It is just his compactness and his stroke production that make me feel that I must have ... Sachin Tendulkar is often called the 'God of Cricket'. Here are some reasons why he is called so. Sachin Tendulkar is a famous cricket player from India. Many people call him the “God of Cricket” because he is one of the best players the game has ever seen. There are several reasons why Tendulkar is given the sobriquet of the God of Cricket. He is the most successful batsman in the history of ...\u001b[0m\u001b[32;1m\u001b[1;3mThought: The observation confirms that Sachin Tendulkar is widely known as \"The God of Cricket\". \n",
      "Final Answer: Sachin Tendulkar is widely known as \"The God of Cricket\". \n",
      "\u001b[0m\n",
      "\n",
      "\u001b[1m> Finished chain.\u001b[0m\n"
     ]
    },
    {
     "data": {
      "text/plain": [
       "{'input': 'Who is the God of Cricket?',\n",
       " 'output': 'Sachin Tendulkar is widely known as \"The God of Cricket\".',\n",
       " 'intermediate_steps': [(AgentAction(tool='Intermediate Answer', tool_input='Who is called \"The God of Cricket', log='Thought: This is a nickname often used to refer to a legendary cricketer. I need to search for who is commonly called \"The God of Cricket\".\\nAction: Intermediate Answer\\nAction Input: Who is called \"The God of Cricket\"'),\n",
       "   'Fondly called the “God of Cricket” or “Master Blaster,” Sachin Tendulkar is considered one of the greatest batsmen of all time in the sport that is considered a national institution in India, cricket. Why is Sachin Tendulkar called the god of cricket? Is he called that just in India or is acknowledged all over the world. Sachin Ramesh Tendulkar is an Indian former international cricketer who captained the Indian national team. He is widely regarded as one of the greatest ... Yes, Sachin Tendulkar is often referred to as the \"God of Cricket\" due to his exceptional cricketing skills and achievements throughout his ... Sachin Tendulkar is widely regarded as the \"God of Cricket\" in world. He made his international cricket debut for India in a Test match against Pakistan in ... Indian cricketing legend Sachin Tendulkar is right known as the God of Cricket for his exceptional career in the sport both in terms of numbers ... Comments62. Ankur Singh. \"He plays in a similar manner. It is just his compactness and his stroke production that make me feel that I must have ... Sachin Tendulkar is often called the \\'God of Cricket\\'. Here are some reasons why he is called so. Sachin Tendulkar is a famous cricket player from India. Many people call him the “God of Cricket” because he is one of the best players the game has ever seen. There are several reasons why Tendulkar is given the sobriquet of the God of Cricket. He is the most successful batsman in the history of ...')]}"
      ]
     },
     "execution_count": 41,
     "metadata": {},
     "output_type": "execute_result"
    }
   ],
   "source": [
    "agent_executor.invoke({\"input\":\"Who is the God of Cricket?\"})"
   ]
  },
  {
   "cell_type": "markdown",
   "id": "60457c07",
   "metadata": {},
   "source": [
    "### ReAct with Custom tool"
   ]
  },
  {
   "cell_type": "code",
   "execution_count": 44,
   "id": "23169cc8",
   "metadata": {},
   "outputs": [],
   "source": [
    "from langchain.tools import tool\n",
    "from langchain import hub\n",
    "from langchain.agents import AgentExecutor, create_react_agent"
   ]
  },
  {
   "cell_type": "code",
   "execution_count": 45,
   "id": "8bcf5fc1",
   "metadata": {},
   "outputs": [],
   "source": [
    "#custom tool for agent\n",
    "@tool\n",
    "def get_employee_id(name):\n",
    "    \"\"\"\n",
    "    To get employee id, it takes employee name as arguments\n",
    "    name(str): Name of the employee\n",
    "    \"\"\"\n",
    "    fake_employees = {\n",
    "        \"Alice\": \"E001\",\n",
    "        \"Bob\": \"E002\",\n",
    "        \"Charlie\": \"E003\",\n",
    "        \"Diana\": \"E004\",\n",
    "        \"Evan\": \"E005\",\n",
    "        \"Fiona\": \"E006\",\n",
    "        \"George\": \"E007\",\n",
    "        \"Hannah\": \"E008\",\n",
    "        \"Ian\": \"E009\",\n",
    "        \"Jasmine\": \"E010\"\n",
    "    }\n",
    "\n",
    "    return fake_employees.get(name, \"Employee not found\")"
   ]
  },
  {
   "cell_type": "code",
   "execution_count": 46,
   "id": "db7aeaad",
   "metadata": {},
   "outputs": [],
   "source": [
    "@tool\n",
    "def get_employee_salary(employee_id):\n",
    "  \"\"\"\n",
    "  To get the salary of an employee, it takes employee_id as input and return salary\n",
    "  \"\"\"\n",
    "  employee_salaries = {\n",
    "    \"E001\": 56000,\n",
    "    \"E002\": 47000,\n",
    "    \"E003\": 52000,\n",
    "    \"E004\": 61000,\n",
    "    \"E005\": 45000,\n",
    "    \"E006\": 58000,\n",
    "    \"E007\": 49000,\n",
    "    \"E008\": 53000,\n",
    "    \"E009\": 50000,\n",
    "    \"E010\": 55000\n",
    "    }\n",
    "  return employee_salaries.get(employee_id,\"Employee not found\")"
   ]
  },
  {
   "cell_type": "code",
   "execution_count": 47,
   "id": "0ba26f03",
   "metadata": {},
   "outputs": [],
   "source": [
    "prompt = hub.pull(\"hwchase17/react\")"
   ]
  },
  {
   "cell_type": "code",
   "execution_count": 48,
   "id": "3627c7bd",
   "metadata": {},
   "outputs": [
    {
     "name": "stdout",
     "output_type": "stream",
     "text": [
      "Answer the following questions as best you can. You have access to the following tools:\n",
      "\n",
      "{tools}\n",
      "\n",
      "Use the following format:\n",
      "\n",
      "Question: the input question you must answer\n",
      "Thought: you should always think about what to do\n",
      "Action: the action to take, should be one of [{tool_names}]\n",
      "Action Input: the input to the action\n",
      "Observation: the result of the action\n",
      "... (this Thought/Action/Action Input/Observation can repeat N times)\n",
      "Thought: I now know the final answer\n",
      "Final Answer: the final answer to the original input question\n",
      "\n",
      "Begin!\n",
      "\n",
      "Question: {input}\n",
      "Thought:{agent_scratchpad}\n"
     ]
    }
   ],
   "source": [
    "print(prompt.template)"
   ]
  },
  {
   "cell_type": "code",
   "execution_count": 49,
   "id": "80818d44",
   "metadata": {},
   "outputs": [],
   "source": [
    "tools = [get_employee_salary, get_employee_id]"
   ]
  },
  {
   "cell_type": "code",
   "execution_count": 50,
   "id": "32182759",
   "metadata": {},
   "outputs": [],
   "source": [
    "agent = create_react_agent(llm,tools,prompt)"
   ]
  },
  {
   "cell_type": "code",
   "execution_count": 51,
   "id": "9604863c",
   "metadata": {},
   "outputs": [],
   "source": [
    "agent_executor = AgentExecutor(agent=agent,tools=tools,verbose=True)"
   ]
  },
  {
   "cell_type": "code",
   "execution_count": 52,
   "id": "089f88f9",
   "metadata": {},
   "outputs": [
    {
     "name": "stdout",
     "output_type": "stream",
     "text": [
      "\n",
      "\n",
      "\u001b[1m> Entering new AgentExecutor chain...\u001b[0m\n",
      "\u001b[32;1m\u001b[1;3mThought: I need to find Evan's employee ID first. Then I can use that ID to get his salary.\n",
      "Action: get_employee_id\n",
      "Action Input: Evan\u001b[0m\u001b[33;1m\u001b[1;3mE005\u001b[0m\u001b[32;1m\u001b[1;3mThought: Now that I have Evan's employee ID, I can use it to get his salary.\n",
      "Action: get_employee_salary\n",
      "Action Input: E005\u001b[0m\u001b[36;1m\u001b[1;3m45000\u001b[0m\u001b[32;1m\u001b[1;3mThought: I now know the final answer\n",
      "Final Answer: Evan's salary is 45000. \n",
      "\u001b[0m\n",
      "\n",
      "\u001b[1m> Finished chain.\u001b[0m\n"
     ]
    },
    {
     "data": {
      "text/plain": [
       "{'input': 'What is the Salary of Evan?', 'output': \"Evan's salary is 45000.\"}"
      ]
     },
     "execution_count": 52,
     "metadata": {},
     "output_type": "execute_result"
    }
   ],
   "source": [
    "agent_executor.invoke({\"input\":\"What is the Salary of Evan?\"})"
   ]
  },
  {
   "cell_type": "code",
   "execution_count": 53,
   "id": "3c20fdb7",
   "metadata": {},
   "outputs": [
    {
     "name": "stdout",
     "output_type": "stream",
     "text": [
      "\n",
      "\n",
      "\u001b[1m> Entering new AgentExecutor chain...\u001b[0m\n",
      "\u001b[32;1m\u001b[1;3mThought: I need to find Ravi's employee ID first, then use that to get his salary.\n",
      "Action: get_employee_id\n",
      "Action Input: Ravi\u001b[0m\u001b[33;1m\u001b[1;3mEmployee not found\u001b[0m\u001b[32;1m\u001b[1;3mThought: Ravi is not in the system. \n",
      "Final Answer: Ravi's salary cannot be found. \n",
      "\n",
      "\n",
      "\u001b[0m\n",
      "\n",
      "\u001b[1m> Finished chain.\u001b[0m\n"
     ]
    },
    {
     "data": {
      "text/plain": [
       "{'input': 'What is the Salary of Ravi?',\n",
       " 'output': \"Ravi's salary cannot be found.\"}"
      ]
     },
     "execution_count": 53,
     "metadata": {},
     "output_type": "execute_result"
    }
   ],
   "source": [
    "agent_executor.invoke({\"input\":\"What is the Salary of Ravi?\"})"
   ]
  },
  {
   "cell_type": "markdown",
   "id": "4386ec20",
   "metadata": {},
   "source": [
    "# Self-Ask with Search Agent:\n",
    "\n",
    "Definition:\n",
    "\n",
    "- This approach allows the AI to ask itself follow-up questions when it doesn't immediately know the answer. It performs a recursive questioning process to break down complex queries into smaller, more manageable ones.\n",
    "- Once the AI generates these follow-up questions, it performs an external search (e.g., through Google or an internal database) to gather the necessary information before formulating a response.\n",
    "\n",
    "\n",
    "How it works:\n",
    "\n",
    "- Step 1: Receive a complex question.\n",
    "- Step 2: The agent identifies sub-questions or follow-up questions.\n",
    "- Step 3: It performs a search or fetches answers to these questions from external resources (like a web search).\n",
    "- Step 4: The answers are aggregated to provide a complete response.\n",
    "\n",
    "\n",
    "\n",
    "Key points:\n",
    "\n",
    "- Emphasizes question decomposition.\n",
    "- Relies on external search for sub-questions.\n",
    "- Useful for answering open-ended or broad questions where the answer is not immediately available.\n",
    "\n",
    "\n",
    "Example:\n",
    "\n",
    "- Original question: “How many moons does Jupiter have?”\n",
    "- Sub-question: “What is Jupiter?” (search)\n",
    "- Sub-question: “What are moons?” (search)\n",
    "- Finally, it retrieves the answer: \"Jupiter has 79 moons.\"\n"
   ]
  },
  {
   "cell_type": "code",
   "execution_count": 64,
   "id": "0a5090cd",
   "metadata": {},
   "outputs": [],
   "source": [
    "from langchain_google_genai import GoogleGenerativeAIEmbeddings\n",
    "embeddings = GoogleGenerativeAIEmbeddings(model=\"models/embedding-001\")"
   ]
  },
  {
   "cell_type": "code",
   "execution_count": 65,
   "id": "440ba437",
   "metadata": {},
   "outputs": [],
   "source": [
    "from langchain_google_genai import ChatGoogleGenerativeAI\n",
    "llm = ChatGoogleGenerativeAI(model=\"gemini-2.5-pro-exp-03-25\")"
   ]
  },
  {
   "cell_type": "code",
   "execution_count": 66,
   "id": "e273cefb",
   "metadata": {},
   "outputs": [],
   "source": [
    "from langchain import hub\n",
    "from langchain.agents import AgentExecutor, create_self_ask_with_search_agent\n",
    "from langchain_community.tools.tavily_search import TavilyAnswer"
   ]
  },
  {
   "cell_type": "code",
   "execution_count": 67,
   "id": "1a7507b2",
   "metadata": {},
   "outputs": [],
   "source": [
    "tools = [\n",
    "    Tool(\n",
    "        name=\"Intermediate Answer\",\n",
    "        func=google_search.run,\n",
    "        description=\"useful for when you need to ask with search engine. \",\n",
    "        verbose=True\n",
    "    )\n",
    "]"
   ]
  },
  {
   "cell_type": "code",
   "execution_count": 68,
   "id": "27bcc3c7",
   "metadata": {},
   "outputs": [
    {
     "name": "stdout",
     "output_type": "stream",
     "text": [
      "Question: Who lived longer, Muhammad Ali or Alan Turing?\n",
      "Are follow up questions needed here: Yes.\n",
      "Follow up: How old was Muhammad Ali when he died?\n",
      "Intermediate answer: Muhammad Ali was 74 years old when he died.\n",
      "Follow up: How old was Alan Turing when he died?\n",
      "Intermediate answer: Alan Turing was 41 years old when he died.\n",
      "So the final answer is: Muhammad Ali\n",
      "\n",
      "Question: When was the founder of craigslist born?\n",
      "Are follow up questions needed here: Yes.\n",
      "Follow up: Who was the founder of craigslist?\n",
      "Intermediate answer: Craigslist was founded by Craig Newmark.\n",
      "Follow up: When was Craig Newmark born?\n",
      "Intermediate answer: Craig Newmark was born on December 6, 1952.\n",
      "So the final answer is: December 6, 1952\n",
      "\n",
      "Question: Who was the maternal grandfather of George Washington?\n",
      "Are follow up questions needed here: Yes.\n",
      "Follow up: Who was the mother of George Washington?\n",
      "Intermediate answer: The mother of George Washington was Mary Ball Washington.\n",
      "Follow up: Who was the father of Mary Ball Washington?\n",
      "Intermediate answer: The father of Mary Ball Washington was Joseph Ball.\n",
      "So the final answer is: Joseph Ball\n",
      "\n",
      "Question: Are both the directors of Jaws and Casino Royale from the same country?\n",
      "Are follow up questions needed here: Yes.\n",
      "Follow up: Who is the director of Jaws?\n",
      "Intermediate answer: The director of Jaws is Steven Spielberg.\n",
      "Follow up: Where is Steven Spielberg from?\n",
      "Intermediate answer: The United States.\n",
      "Follow up: Who is the director of Casino Royale?\n",
      "Intermediate answer: The director of Casino Royale is Martin Campbell.\n",
      "Follow up: Where is Martin Campbell from?\n",
      "Intermediate answer: New Zealand.\n",
      "So the final answer is: No\n",
      "\n",
      "Question: {input}\n",
      "Are followup questions needed here:{agent_scratchpad}\n"
     ]
    }
   ],
   "source": [
    "prompt = hub.pull(\"hwchase17/self-ask-with-search\")\n",
    "print(prompt.template)"
   ]
  },
  {
   "cell_type": "code",
   "execution_count": 69,
   "id": "9d5d423c",
   "metadata": {},
   "outputs": [],
   "source": [
    "agent = create_self_ask_with_search_agent(llm, tools, prompt)"
   ]
  },
  {
   "cell_type": "code",
   "execution_count": 70,
   "id": "f3672502",
   "metadata": {},
   "outputs": [],
   "source": [
    "agent_executor = AgentExecutor(agent=agent, tools=tools, verbose=True, handle_parsing_errors=True)"
   ]
  },
  {
   "cell_type": "code",
   "execution_count": 72,
   "id": "5d860383",
   "metadata": {},
   "outputs": [
    {
     "name": "stdout",
     "output_type": "stream",
     "text": [
      "\n",
      "\n",
      "\u001b[1m> Entering new AgentExecutor chain...\u001b[0m\n",
      "\u001b[32;1m\u001b[1;3mCould not parse output: Are followup questions needed here: No.\n",
      "For troubleshooting, visit: https://python.langchain.com/docs/troubleshooting/errors/OUTPUT_PARSING_FAILURE \u001b[0mInvalid or incomplete response\u001b[32;1m\u001b[1;3mQuestion: Which Assian country has largest population?\n",
      "Are follow up questions needed here: Yes.\n",
      "Follow up: What are the most populous countries in Asia?\u001b[0m\u001b[36;1m\u001b[1;3mAsian Countries by Population (2025) ; 2, China, 1,416,096,094 ; 3, Indonesia, 285,721,236 ; 4, Pakistan, 255,219,554 ; 5, Bangladesh, 175,686,899 ... All Countries in Asia ; 1, India, 1,438,069,596 ; 2, People's Republic of China, 1,410,710,000 ; 3, Indonesia, 281,190,067 ; 4, Pakistan, 247,504,495. Asia has the two most populous countries in its borders: China and India. China is currently the most populous country on earth with an estimated population in ... Chart ; Iran, 85.3, 84.7 ; Thailand, 66.05, 66.09 ; Myanmar, 54.58, 54.18 ; South Korea, 51.75, 51.71 ... India is the most populous country in Asia, followed by China. These two contries together share close to 60% of Asia population. 1 Continent, 4.4 Billion People: The 10 Most Populous Countries in Asia · 1. India · 2. China · 3. Indonesia · 4. Pakistan · 5. Bangladesh · 6. Japan · 7. The ... India officially surpassed China to become the most populous country in the world with over 1.4 billion people in November 2022, while Chinese ... Countries ranking by international organisations ; China, 1,420,909, 1.01 ; Indonesia, 282,354, 2.12 ; Pakistan, 249,336, 3.55 ; Bangladesh, 172,507, 2.14 ... A lot of countries here like Pakistan Indonesia the Philippines and a few others have close to or over 100 million in their populations with India and china ...\u001b[0m\u001b[32;1m\u001b[1;3mIntermediate answer: The most populous countries in Asia are India and China. Recent data indicates India now has a larger population than China.\n",
      "So the final answer is: India\u001b[0m\n",
      "\n",
      "\u001b[1m> Finished chain.\u001b[0m\n"
     ]
    },
    {
     "data": {
      "text/plain": [
       "{'input': 'Which Assian country has largest population?', 'output': 'India'}"
      ]
     },
     "execution_count": 72,
     "metadata": {},
     "output_type": "execute_result"
    }
   ],
   "source": [
    "agent_executor.invoke(\n",
    "    {\"input\":\"Which Assian country has largest population?\"}\n",
    ")"
   ]
  },
  {
   "cell_type": "code",
   "execution_count": 74,
   "id": "7d98fbc9",
   "metadata": {},
   "outputs": [
    {
     "name": "stdout",
     "output_type": "stream",
     "text": [
      "\n",
      "\n",
      "\u001b[1m> Entering new AgentExecutor chain...\u001b[0m\n",
      "\u001b[32;1m\u001b[1;3mYes.\n",
      "Follow up: What is the correct name of the IPL team mentioned?\u001b[0m\u001b[36;1m\u001b[1;3mThe current champions are the Kolkata Knight Riders, who won the 2024 season after defeating Sunrisers Hyderabad in the final. In just six years, the IPL's ... CSK. Chennai Super Kings. 2010 | 2011 | 2018 | 2021 | 2023 · DC. Delhi Capitals · GT. Gujarat Titans. 2022 · KKR. Kolkata Knight Riders. 2012 | 2014 | 2024. IPL 2025 - Teams ; Chennai Super Kings ; Delhi Capitals ; Gujarat Titans ; Kolkata Knight Riders ; Lucknow Super Giants. IPL 2025 Teams and Squads ; Chennai Super Kings · IPL Trophy 2023, 2021, 2018, 2011, 2010 ; Delhi Capitals ; Gujarat Titans · IPL Trophy 2022 ; Kolkata Knight Riders. Best names : · Deccan Chargers -The name plus their logo was in my opinion the best till date in IPL. · Kings XI Punjab · Cochin Tuskers - Tusker ... Yeah the names are dumb. Sunriser is actually the only unique name in the entire IPL. Why Kings? Chennai Maharajas sounds better. Teams ; Royal Challengers Bengaluru. 6th. Andy Flower · Faf du Plessis ; Sunrisers Hyderabad. 10th. Daniel Vettori · Pat Cummins ... List of the teams in the Indian Premier League and their Owners · Chennai Super Kings · Mumbai Indians · Royal Challengers Bangalore · Delhi ... You can walk through a list of IPL teams, their logo designs, and taglines for a thorough look. From KKR to MI, GT, SLG, CSK, SRH, and RCB ... Mumbai Indians · Rajasthan Royals: · Royal Challengers Bengaluru: · Punjab Kings: · Chennai Super Kings: · Delhi Capitals: · Sunrisers Hyderabad:.\u001b[0m\u001b[32;1m\u001b[1;3mIntermediate answer: The correct name of the team is Royal Challengers Bengaluru.\n",
      "Follow up: Who is the current captain of Royal Challengers Bengaluru?\u001b[0m\u001b[36;1m\u001b[1;3mRoyal Challengers Bengaluru ; Captain · Rajat Patidar ; Coach · Andy Flower ; Owner · Royal Challengers Sports Private Ltd ; Venue · M. Chinnaswamy Stadium. Rajat Patidar has been appointed captain of Royal Challengers Bengaluru (RCB) for IPL 2025, which begins around March 21. A new leader. A new chapter. Rajat Patidar steps up as the captain of Royal Challengers Bengaluru! Can he lead RCB to glory? Daniel Vettori took charge as captain but RCB started poorly again, with the batting failing to click. Then Gayle came into the side as a replacement for Dirk ... Full Squad Unveil at RCB Unbox 2025 | Rajat's First Speech as Captain at Bengaluru | IPL 2025 · Comments13K. Royal Challengers Bengaluru | CAN'T KEEP CALM! CAPTAIN RAJAT PATIDAR IS HERE. ❤ And he's sporting the brand new #RCBxPuma jersey of ... Royal Challengers Bengaluru have named Rajat Patidar as their new captain, replacing Faf du Plessis. Patidar, who made his IPL debut in 2021, ... Rajat Manohar Patidar - Captain, Royal Challengers Bengaluru The journey of self-belief. That blessed feeling. This opportunity. Royal Challengers Bengaluru have announced batter Rajat Patidar as their new captain for the 2025 edition of the Indian Premier League.\u001b[0m\u001b[32;1m\u001b[1;3mIntermediate answer: Rajat Patidar is the current captain of Royal Challengers Bengaluru.\n",
      "So the final answer is: Rajat Patidar\u001b[0m\n",
      "\n",
      "\u001b[1m> Finished chain.\u001b[0m\n"
     ]
    },
    {
     "data": {
      "text/plain": [
       "{'input': 'Who is current caption of Royal Challangers Banglore IPL cricket team?',\n",
       " 'output': 'Rajat Patidar'}"
      ]
     },
     "execution_count": 74,
     "metadata": {},
     "output_type": "execute_result"
    }
   ],
   "source": [
    "agent_executor.invoke(\n",
    "    {\"input\":\"Who is current caption of Royal Challangers Banglore IPL cricket team?\"}\n",
    ")"
   ]
  },
  {
   "cell_type": "code",
   "execution_count": null,
   "id": "3d3da772",
   "metadata": {},
   "outputs": [],
   "source": []
  }
 ],
 "metadata": {
  "kernelspec": {
   "display_name": "langgreph_env",
   "language": "python",
   "name": "python3"
  },
  "language_info": {
   "codemirror_mode": {
    "name": "ipython",
    "version": 3
   },
   "file_extension": ".py",
   "mimetype": "text/x-python",
   "name": "python",
   "nbconvert_exporter": "python",
   "pygments_lexer": "ipython3",
   "version": "3.12.10"
  }
 },
 "nbformat": 4,
 "nbformat_minor": 5
}
