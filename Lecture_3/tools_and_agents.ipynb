{
 "cells": [
  {
   "cell_type": "markdown",
   "id": "346dc5aa",
   "metadata": {},
   "source": [
    "# Tools and Agents "
   ]
  },
  {
   "cell_type": "code",
   "execution_count": 1,
   "id": "4f808e49",
   "metadata": {},
   "outputs": [],
   "source": [
    "import os\n",
    "from dotenv import load_dotenv \n",
    "load_dotenv()\n",
    "\n",
    "GROQ_API_KEY = os.getenv(\"GROQ_API_KEY\")\n",
    "LANGCHAIN_API_KEY = os.getenv(\"LANGCHAIN_API_KEY\")\n",
    "LANGSMITH_API_KEY = os.getenv(\"LANGSMITH_API_KEY\")\n",
    "LANGSMITH_PROJECT = os.getenv(\"LANGSMITH_PROJECT\")\n",
    "GOOGLE_API_KEY = os.getenv(\"GOOGLE_API_KEY\")\n",
    "TAVILY_API_KEY = os.getenv(\"TAVILY_API_KEY\")\n",
    "\n",
    "os.environ[\"LANGCHAIN_TRACING_V2\"] = \"true\"\n",
    "os.environ[\"GOOGLE_API_KEY\"] = GOOGLE_API_KEY\n",
    "os.environ[\"GROQ_API_KEY\"] = GROQ_API_KEY\n",
    "os.environ[\"LANGCHAIN_API_KEY\"] = LANGCHAIN_API_KEY\n",
    "os.environ[\"LANGSMITH_API_KEY\"] = LANGSMITH_API_KEY\n",
    "os.environ[\"LANGSMITH_PROJECT\"] = LANGSMITH_PROJECT\n",
    "os.environ[\"TAVILY_API_KEY\"] = TAVILY_API_KEY"
   ]
  },
  {
   "cell_type": "code",
   "execution_count": 2,
   "id": "2f5b8073",
   "metadata": {},
   "outputs": [],
   "source": [
    "from langchain_groq import ChatGroq\n",
    "llm=ChatGroq(model=\"Gemma2-9b-It\")"
   ]
  },
  {
   "cell_type": "code",
   "execution_count": 3,
   "id": "e8411e39",
   "metadata": {},
   "outputs": [
    {
     "data": {
      "text/plain": [
       "AIMessage(content='Hello! 👋  How can I help you today? 😊  \\n', additional_kwargs={}, response_metadata={'token_usage': {'completion_tokens': 16, 'prompt_tokens': 11, 'total_tokens': 27, 'completion_time': 0.029090909, 'prompt_time': 0.001904536, 'queue_time': 0.233538967, 'total_time': 0.030995445}, 'model_name': 'Gemma2-9b-It', 'system_fingerprint': 'fp_10c08bf97d', 'finish_reason': 'stop', 'logprobs': None}, id='run-f8bb7b70-55ff-495c-b446-b1908c859a50-0', usage_metadata={'input_tokens': 11, 'output_tokens': 16, 'total_tokens': 27})"
      ]
     },
     "execution_count": 3,
     "metadata": {},
     "output_type": "execute_result"
    }
   ],
   "source": [
    "llm.invoke(\"Hii,\")"
   ]
  },
  {
   "cell_type": "code",
   "execution_count": 4,
   "id": "24a9fef4",
   "metadata": {},
   "outputs": [
    {
     "name": "stderr",
     "output_type": "stream",
     "text": [
      "C:\\Users\\ravia\\AppData\\Local\\Temp\\ipykernel_16320\\444928007.py:2: LangChainDeprecationWarning: The class `HuggingFaceEmbeddings` was deprecated in LangChain 0.2.2 and will be removed in 1.0. An updated version of the class exists in the :class:`~langchain-huggingface package and should be used instead. To use it run `pip install -U :class:`~langchain-huggingface` and import as `from :class:`~langchain_huggingface import HuggingFaceEmbeddings``.\n",
      "  enbeddings = HuggingFaceEmbeddings(model_name=\"all-MiniLM-L6-v2\")\n",
      "d:\\LangGraph-End-To-End\\langgreph_env\\Lib\\site-packages\\tqdm\\auto.py:21: TqdmWarning: IProgress not found. Please update jupyter and ipywidgets. See https://ipywidgets.readthedocs.io/en/stable/user_install.html\n",
      "  from .autonotebook import tqdm as notebook_tqdm\n"
     ]
    }
   ],
   "source": [
    "from langchain.embeddings import HuggingFaceEmbeddings\n",
    "enbeddings = HuggingFaceEmbeddings(model_name=\"all-MiniLM-L6-v2\")"
   ]
  },
  {
   "cell_type": "markdown",
   "id": "3705822b",
   "metadata": {},
   "source": [
    "## Predifine Tool"
   ]
  },
  {
   "cell_type": "markdown",
   "id": "ff39b608",
   "metadata": {},
   "source": [
    "### Wikipedia"
   ]
  },
  {
   "cell_type": "code",
   "execution_count": 5,
   "id": "4fb18f42",
   "metadata": {},
   "outputs": [
    {
     "name": "stdout",
     "output_type": "stream",
     "text": [
      "Page: LangChain\n",
      "Summary: LangChain is a software framework that helps facilitate the integration of large language models (LLMs) into applications. As a language model integration framework, LangChain's use-cases largely overlap with those of language models in general, including document analysis and summarization, chatbots, and code analysis.\n",
      "\n",
      "Page: Model Context Protocol\n",
      "Summary: The Model Context Protocol (MCP) is an open standard developed by the artificial intelligence company Anthropic for enabling large language model (LLM) applications to interact with external tools, systems, and data sources. Designed to standardize context exchange between AI assistants and software environments, MCP provides a model-agnostic interface for reading files, executing functions, and handling contextual prompts. It was officially announced and open-sourced by Anthropic in November 2024, with subsequent adoption by major AI providers including OpenAI and Google DeepMind.\n",
      "\n",
      "Page: Retrieval-augmented generation\n",
      "Summary: Retrieval-augmented generation (RAG) is a technique that enables generative artificial intelligence (Gen AI) models to retrieve and incorporate new information. It modifies interactions with a large language model (LLM) so that the model responds to user queries with reference to a specified set of documents, using this information to supplement information from its pre-existing training data. This allows LLMs to use domain-specific and/or updated information. Use cases include providing chatbot access to internal company data or generating responses based on authoritative sources.\n",
      "RAG improves large language models (LLMs) by incorporating information retrieval before generating responses. Unlike traditional LLMs that rely on static training data, RAG pulls relevant text from databases, uploaded documents, or web sources. According to Ars Technica, \"RAG is a way of improving LLM performance, in essence by blending the LLM process with a web search or other document look-up process to help LLMs stick to the facts.\" This method helps reduce AI hallucinations, which have led to real-world issues like chatbots inventing policies or lawyers citing nonexistent legal cases.\n",
      "By dynamically retrieving information, RAG enables AI to provide more accurate responses without frequent retraining. According to IBM, \"RAG also reduces the need for users to continuously train the model on new data and update its parameters as circumstances evolve. In this way, RAG can lower the computational and financial costs of running LLM-powered chatbots in an enterprise setting.\"\n",
      "Beyond efficiency gains, RAG also allows LLMs to include source references in their responses, enabling users to verify information by reviewing cited documents or original sources. This can provide greater transparency, as users can cross-check retrieved content to ensure accuracy and relevance.\n",
      "The term \"retrieval-augmented generation\" (RAG) was first introduced in 2020 by Douwe Kiela, Patrick Lewis, Ethan Perez, Aleksandra Piktus, Fabio Petroni, Vladimir Karpukhin, Naman Goyal, Heinrich Küttler, Mike Lewis, Wen-tau Yih, Tim Rocktäschel, and Sebastian Riedel in their research paper Retrieval-Augmented Generation for Knowledge-Intensive NLP Tasks, at Meta.\n"
     ]
    }
   ],
   "source": [
    "from langchain_community.tools import WikipediaQueryRun\n",
    "from langchain_community.utilities import WikipediaAPIWrapper\n",
    "wikipedia_api = WikipediaAPIWrapper()\n",
    "wiki = WikipediaQueryRun(api_wrapper=wikipedia_api)\n",
    "print(wiki.run({\"query\": \"Langchain\"}))"
   ]
  },
  {
   "cell_type": "markdown",
   "id": "40924abd",
   "metadata": {},
   "source": [
    "### Youtube search"
   ]
  },
  {
   "cell_type": "code",
   "execution_count": 6,
   "id": "a0c8d6be",
   "metadata": {},
   "outputs": [
    {
     "name": "stdout",
     "output_type": "stream",
     "text": [
      "['https://www.youtube.com/watch?v=cydntJObPLI&pp=ygUMc3Vubnkgc2F2aXRh', 'https://www.youtube.com/watch?v=uQY_7LKS8sc&pp=ygUMc3Vubnkgc2F2aXRh']\n"
     ]
    }
   ],
   "source": [
    "from langchain_community.tools import YouTubeSearchTool\n",
    "youtube = YouTubeSearchTool()\n",
    "print(youtube.run(\"sunny savita\"))"
   ]
  },
  {
   "cell_type": "markdown",
   "id": "c13383c1",
   "metadata": {},
   "source": [
    "### Travily search"
   ]
  },
  {
   "cell_type": "code",
   "execution_count": 7,
   "id": "893a9d37",
   "metadata": {},
   "outputs": [
    {
     "name": "stdout",
     "output_type": "stream",
     "text": [
      "[{'title': 'Portfolio - Ravi Avaiya', 'url': 'https://raviavaiya-portfolio.vercel.app/project-details.html', 'content': \"I'm Ravi Avaiya, a dedicated web developer with a passion for crafting exceptional digital experiences. With expertise in a variety of technologies, I\", 'score': 0.76617163}, {'title': 'Ravi Avaiya | Portfolio', 'url': 'https://raviavaiya-portfolio.netlify.app/', 'content': \"I'm Ravi Avaiya, a dedicated Data Scientist with a passion for crafting exceptional digital experiences.\\n        With expertise in a variety of technologies, I specialize in Data Science. [...] Ravi Avaiya\\n\\nI'm a Data Scientist\\n\\nAbout Me\\n\\nPassionate Data Scientist Crafting Engaging Digital Experiences\\n\\nHappy Clients Successfully delivered quality services to satisfied clients.\\n\\nProjects Completed diverse projects with excellence and precision.\\n\\nYears of experience Bringing two years of expertise in the industry.\\n\\nAwards Recognized with five prestigious awards for outstanding work.\\n\\nMy Resume [...] As a chatbot developer, I build AI-driven chatbots that offer efficient, accurate,\\n                and personalized user experiences across various platforms, ensuring smooth interaction and customer\\n                satisfaction.\\n\\nMy Skills\\n\\nUnleashing the Power of Skills: Showcasing a Diverse Arsenal of Expertise, Innovation, and\\n            Problem-Solving. Explore a Spectrum of Proficiencies that Drive Results and Fuel Success\\n\\nProjects\", 'score': 0.755078}, {'title': 'Ravi Avaiya raviavaiya - GitHub', 'url': 'https://github.com/raviavaiya', 'content': 'You must be logged in to block users.\\n\\nContact GitHub support about this user’s behavior.\\n        Learn more about reporting abuse.\\n\\nनमस्ते 🙏🏻, Hi there 👋 I am Ravi Avaiya!\\n\\n\\n\\n🔭 I’m currently working on AI/ML Projects\\n\\n🌱 I’m currently learning Python | FastAPI | LangChain | Prompt Engineering\\n\\n💬 Ask me about Python, AI, Data Science, Machine Learning, LangChain, RAG\\n\\n📫 How to reach me:\\n\\n⚡ Fun fact: I love building communities and mentoring beginners!\\n\\n🛠️ Tech Stack\\n\\n👨\\u200d💻 Languages [...] Navigation Menu\\n\\nSearch code, repositories, users, issues, pull requests...\\n\\nProvide feedback\\n\\nWe read every piece of feedback, and take your input very seriously.\\n\\nSaved searches\\n\\nUse saved searches to filter your results more quickly\\n\\nTo see all available qualifiers, see our documentation.\\n\\n\\n\\nRavi Avaiya\\n        \\n\\n          raviavaiya\\n\\nBlock or report raviavaiya\\n\\nPrevent this user from interacting with your repositories and sending you notifications.\\n          Learn more about blocking users. [...] Vibe Coding.....\\n\\nHTML\\n\\nFooter\\n\\nFooter navigation', 'score': 0.68496037}, {'title': 'Ravi Avaiya | Novice - Kaggle', 'url': 'https://www.kaggle.com/raviavaiya', 'content': 'Results-driven Machine Learning Intern with expertise in Generative AI, Natural Language Processing (NLP), and predictive modeling.', 'score': 0.61779}, {'title': 'Ravi Avaiya - Surat, Gujarat, India | Professional Profile - LinkedIn', 'url': 'https://in.linkedin.com/in/ravi-avaiya-8796262a4', 'content': \"Student at Uka Tarsadia University · Education: Uka Tarsadia University · Location: Surat · 1 connection on LinkedIn. View Ravi Avaiya's profile on LinkedIn\", 'score': 0.6158511}]\n"
     ]
    }
   ],
   "source": [
    "from langchain_community.tools.tavily_search import  TavilySearchResults\n",
    "search = TavilySearchResults()\n",
    "print(search.invoke({\"query\":\"Ravi Avaiya\"}))"
   ]
  },
  {
   "cell_type": "markdown",
   "id": "06602429",
   "metadata": {},
   "source": [
    "## Create Custom tool"
   ]
  },
  {
   "cell_type": "code",
   "execution_count": 8,
   "id": "081b94ec",
   "metadata": {},
   "outputs": [
    {
     "name": "stderr",
     "output_type": "stream",
     "text": [
      "C:\\Users\\ravia\\AppData\\Local\\Temp\\ipykernel_16320\\2965449846.py:7: LangChainDeprecationWarning: The method `BaseTool.__call__` was deprecated in langchain-core 0.1.47 and will be removed in 1.0. Use :meth:`~invoke` instead.\n",
      "  get_word_length(\"abc\")\n"
     ]
    },
    {
     "data": {
      "text/plain": [
       "3"
      ]
     },
     "execution_count": 8,
     "metadata": {},
     "output_type": "execute_result"
    }
   ],
   "source": [
    "from langchain.agents import tool\n",
    "\n",
    "@tool\n",
    "def get_word_length(word: str) -> int:\n",
    "    \"\"\"Returns the length of the word.\"\"\"\n",
    "    return len(word)\n",
    "get_word_length(\"abc\")"
   ]
  },
  {
   "cell_type": "code",
   "execution_count": 9,
   "id": "671ac728",
   "metadata": {},
   "outputs": [
    {
     "name": "stdout",
     "output_type": "stream",
     "text": [
      "2000\n",
      "Multiply two numbers\n"
     ]
    }
   ],
   "source": [
    "from langchain.agents import tool\n",
    "\n",
    "@tool\n",
    "def multiply(a: int,b: int) -> int:\n",
    "    \"\"\"Multiply two numbers\"\"\"\n",
    "    return a * b\n",
    "print(multiply.invoke({\"a\":100,\"b\":20}))\n",
    "print(multiply.description)"
   ]
  },
  {
   "cell_type": "code",
   "execution_count": 10,
   "id": "5559cf71",
   "metadata": {},
   "outputs": [
    {
     "name": "stdout",
     "output_type": "stream",
     "text": [
      "120\n",
      "Adding two numbers\n"
     ]
    }
   ],
   "source": [
    "from langchain.agents import tool\n",
    "\n",
    "@tool\n",
    "def addition(a: int,b: int) -> int:\n",
    "    \"\"\"Adding two numbers\"\"\"\n",
    "    return a + b\n",
    "print(addition.invoke({\"a\":100,\"b\":20}))\n",
    "print(addition.description)"
   ]
  },
  {
   "cell_type": "code",
   "execution_count": 11,
   "id": "c0e283ff",
   "metadata": {},
   "outputs": [
    {
     "name": "stdout",
     "output_type": "stream",
     "text": [
      "Adding two numbers\n",
      "{'a': {'title': 'A', 'type': 'integer'}, 'b': {'title': 'B', 'type': 'integer'}}\n",
      "addition\n"
     ]
    }
   ],
   "source": [
    "print(addition.description)\n",
    "print(addition.args)\n",
    "print(addition.name)"
   ]
  },
  {
   "cell_type": "markdown",
   "id": "cae80093",
   "metadata": {},
   "source": [
    "# Concept Of Agents"
   ]
  },
  {
   "cell_type": "markdown",
   "id": "ceace586",
   "metadata": {},
   "source": [
    "### This agent classs from the first version of  (Lagacy)"
   ]
  },
  {
   "cell_type": "code",
   "execution_count": 12,
   "id": "591c8eff",
   "metadata": {},
   "outputs": [],
   "source": [
    "from langchain.agents import AgentType\n",
    "from langchain.agents import initialize_agent\n",
    "from langchain.agents import load_tools"
   ]
  },
  {
   "cell_type": "code",
   "execution_count": 13,
   "id": "f087f55d",
   "metadata": {},
   "outputs": [],
   "source": [
    "tool = load_tools([\"wikipedia\"],llm=llm)"
   ]
  },
  {
   "cell_type": "code",
   "execution_count": 14,
   "id": "d1ecd489",
   "metadata": {},
   "outputs": [
    {
     "name": "stderr",
     "output_type": "stream",
     "text": [
      "C:\\Users\\ravia\\AppData\\Local\\Temp\\ipykernel_16320\\354760984.py:1: LangChainDeprecationWarning: LangChain agents will continue to be supported, but it is recommended for new use cases to be built with LangGraph. LangGraph offers a more flexible and full-featured framework for building agents, including support for tool-calling, persistence of state, and human-in-the-loop workflows. For details, refer to the `LangGraph documentation <https://langchain-ai.github.io/langgraph/>`_ as well as guides for `Migrating from AgentExecutor <https://python.langchain.com/docs/how_to/migrate_agent/>`_ and LangGraph's `Pre-built ReAct agent <https://langchain-ai.github.io/langgraph/how-tos/create-react-agent/>`_.\n",
      "  agent = initialize_agent(tool,llm,agent=AgentType.ZERO_SHOT_REACT_DESCRIPTION,verbose=True)\n"
     ]
    }
   ],
   "source": [
    "agent = initialize_agent(tool,llm,agent=AgentType.ZERO_SHOT_REACT_DESCRIPTION,verbose=True)"
   ]
  },
  {
   "cell_type": "code",
   "execution_count": 17,
   "id": "81811cd8",
   "metadata": {},
   "outputs": [
    {
     "name": "stdout",
     "output_type": "stream",
     "text": [
      "\n",
      "\n",
      "\u001b[1m> Entering new AgentExecutor chain...\u001b[0m\n",
      "\u001b[32;1m\u001b[1;3mThought: I need to know what LLAMA is and who created it. \n",
      "Action: wikipedia\n",
      "Action Input: LLAMA language model\u001b[0m\n",
      "Observation: \u001b[36;1m\u001b[1;3mPage: Llama (language model)\n",
      "Summary: Llama (Large Language Model Meta AI, formerly stylized as LLaMA) is a family of large language models (LLMs) released by Meta AI starting in February 2023. The latest version is Llama 4, released in April 2025.\n",
      "Llama models come in different sizes, ranging from 1 billion to 2 trillion parameters. Initially only a foundation model, starting with Llama 2, Meta AI released instruction fine-tuned versions alongside foundation models.\n",
      "Model weights for the first version of Llama were only available to researchers on a case-by-case basis, under a non-commercial license. Unauthorized copies of the first model were shared via BitTorrent. Subsequent versions of Llama were made accessible outside academia and released under licenses that permitted some commercial use.\n",
      "Alongside the release of Llama 3, Meta added virtual assistant features to Facebook and WhatsApp in select regions, and a standalone website. Both services use a Llama 3 model.\n",
      "\n",
      "Page: Llama.cpp\n",
      "Summary: llama.cpp is an open source software library that performs inference on various large language models such as Llama. It is co-developed alongside the GGML project, a general-purpose tensor library.\n",
      "Command-line tools are included with the library, alongside a server with a simple web interface.\n",
      "\n",
      "\n",
      "\n",
      "Page: Language model\n",
      "Summary: A language model is a model of natural language. Language models are useful for a variety of tasks, including speech recognition, machine translation, natural language generation (generating more human-like text), optical character recognition, route optimization, handwriting recognition, grammar induction, and information retrieval.\n",
      "Large language models (LLMs), currently their most advanced form, are predominantly based on transformers trained on larger datasets (frequently using words scraped from the public internet). They have superseded recurrent neural network-based models, which had previously superseded the purely statistical models, such as word n-gram language model.\n",
      "\n",
      "\u001b[0m\n",
      "Thought:\u001b[32;1m\u001b[1;3mThought: I know LLAMA is a family of large language models created by Meta AI.\n",
      "Final Answer: LLAMA is a family of large language models created by Meta AI.  \n",
      "\u001b[0m\n",
      "\n",
      "\u001b[1m> Finished chain.\u001b[0m\n"
     ]
    },
    {
     "data": {
      "text/plain": [
       "'LLAMA is a family of large language models created by Meta AI.'"
      ]
     },
     "execution_count": 17,
     "metadata": {},
     "output_type": "execute_result"
    }
   ],
   "source": [
    "agent.run(\"What is llama and Who created this llm model?\")"
   ]
  },
  {
   "cell_type": "code",
   "execution_count": 19,
   "id": "bc0c59c7",
   "metadata": {},
   "outputs": [
    {
     "data": {
      "text/plain": [
       "[{'title': 'Weather in Surat, Gujarat, India',\n",
       "  'url': 'https://www.weatherapi.com/',\n",
       "  'content': \"{'location': {'name': 'Surat', 'region': 'Gujarat', 'country': 'India', 'lat': 20.9667, 'lon': 72.9, 'tz_id': 'Asia/Kolkata', 'localtime_epoch': 1745382955, 'localtime': '2025-04-23 10:05'}, 'current': {'last_updated_epoch': 1745382600, 'last_updated': '2025-04-23 10:00', 'temp_c': 34.6, 'temp_f': 94.2, 'is_day': 1, 'condition': {'text': 'Sunny', 'icon': '//cdn.weatherapi.com/weather/64x64/day/113.png', 'code': 1000}, 'wind_mph': 6.5, 'wind_kph': 10.4, 'wind_degree': 319, 'wind_dir': 'NW', 'pressure_mb': 1010.0, 'pressure_in': 29.82, 'precip_mm': 0.0, 'precip_in': 0.0, 'humidity': 33, 'cloud': 3, 'feelslike_c': 35.3, 'feelslike_f': 95.5, 'windchill_c': 34.6, 'windchill_f': 94.2, 'heatindex_c': 35.3, 'heatindex_f': 95.5, 'dewpoint_c': 15.8, 'dewpoint_f': 60.4, 'vis_km': 10.0, 'vis_miles': 6.0, 'uv': 7.2, 'gust_mph': 7.8, 'gust_kph': 12.5}}\",\n",
       "  'score': 0.9916649},\n",
       " {'title': 'Surat weather in April 2025 ⋆ Surat temperature ... - Meteoprog.com',\n",
       "  'url': 'https://www.meteoprog.com/weather/Surat/month/april/',\n",
       "  'content': 'Surat (India) weather in April 2025 ☀ Accurate weather forecast for Surat ... 23 Apr. +36°+27°. 24 Apr. +36°+27°. 25 Apr. +36°+27°. 26 Apr. +36°+27°. 27 Apr. +37°',\n",
       "  'score': 0.92731744},\n",
       " {'title': 'Weather Surat in April 2025: Temperature & Climate',\n",
       "  'url': 'https://en.climate-data.org/asia/india/gujarat/surat-959693/t/april-4/',\n",
       "  'content': '23. April | 30 °C | 86 °F | 35 °C | 95 °F | 26 °C | 78 °F | 0.3 mm | 0.0 inch.\\n24. April | 30 °C | 86 °F | 35 °C | 96 °F | 26 °C | 78 °F | 0.4 mm | 0.0 inch.\\n25. April | 30 °C | 86 °F | 35 °C | 96 °F | 26 °C | 78 °F | 2.5 mm | 0.1 inch.\\n26. April | 30 °C | 86 °F | 35 °C | 95 °F | 26 °C | 78 °F | 0.6 mm | 0.0 inch.\\n27. April | 30 °C | 87 °F | 36 °C | 96 °F | 26 °C | 79 °F | 0.2 mm | 0.0 inch.\\n28. April | 31 °C | 87 °F | 36 °C | 97 °F | 26 °C | 79 °F | 0.2 mm | 0.0 inch. [...] Min. Temperature °C (°F) | 17.3 °C(63.2) °F | 18.7 °C(65.6) °F | 21.6 °C(70.9) °F | 24.9 °C(76.8) °F | 27.2 °C(81) °F | 27.3 °C(81.1) °F | 26 °C(78.8) °F | 25.5 °C(77.9) °F | 25.4 °C(77.8) °F | 24 °C(75.3) °F | 21.8 °C(71.2) °F | 18.9 °C(65.9) °F\\nMax. Temperature °C (°F) | 27.9 °C(82.3) °F | 29.6 °C(85.3) °F | 33 °C(91.4) °F | 34.9 °C(94.8) °F | 34.2 °C(93.6) °F | 32.1 °C(89.7) °F | 29.1 °C(84.3) °F | 28.5 °C(83.4) °F | 29.7 °C(85.5) °F | 32.6 °C(90.7) °F | 31.9 °C(89.5) °F | 29.3 °C(84.7) °F [...] 29.6 °C\\n\\n(85.3) °F\\n\\n33 °C\\n\\n(91.4) °F\\n\\n34.9 °C\\n\\n(94.8) °F\\n\\n34.2 °C\\n\\n(93.6) °F\\n\\n32.1 °C\\n\\n(89.7) °F\\n\\n29.1 °C\\n\\n(84.3) °F\\n\\n28.5 °C\\n\\n(83.4) °F\\n\\n29.7 °C\\n\\n(85.5) °F\\n\\n32.6 °C\\n\\n(90.7) °F\\n\\n31.9 °C\\n\\n(89.5) °F\\n\\n29.3 °C\\n\\n(84.7) °F\\n\\n1\\n\\n(0)\\n\\n0\\n\\n(0)\\n\\n0\\n\\n(0)\\n\\n0\\n\\n(0)\\n\\n3\\n\\n(0)\\n\\n154\\n\\n(6)\\n\\n359\\n\\n(14)\\n\\n253\\n\\n(9)\\n\\n182\\n\\n(7)\\n\\n27\\n\\n(1)\\n\\n6\\n\\n(0)\\n\\n4\\n\\n(0)',\n",
       "  'score': 0.910998},\n",
       " {'title': 'Weather in Surat - Climate monitor on April 2025',\n",
       "  'url': 'https://www.weatherandclimate.eu/monitor/42840',\n",
       "  'content': 'Date | Air temperature, °С | Precipitationmm\\nMinimum | Average | Maximum | Departurefrom normal\\n1 | 24.2 | 30.3 | 38.0 | +1.1 | 0.0\\n2 | 24.6 | 31.3 | 39.6 | +2.0 | 0.0\\n3 | 25.6 | 29.6 | 34.2 | +0.3 | 0.0\\n4 | 26.0 | 30.0 | 35.8 | +0.6 | 0.0\\n5 | 24.6 | 31.3 | 39.2 | +1.8 | 0.0\\n6 | 24.8 | 32.2 | 40.8 | +2.7 | 0.0\\n7 | 23.8 | 32.1 | 40.4 | +2.5 | 0.0\\n8 | 25.4 | 32.6 | 40.6 | +2.9 | 0.0\\n9 | 25.8 | 32.2 | 41.0 | +2.5 | 0.0\\n10 | 26.0 | 30.0 | 34.4 | +0.2 | 0.0\\n11 | 26.4 | 29.2 | 32.8 | -0.6 | 0.0 [...] 12 | 26.7 | 29.3 | 32.8 | -0.6 | 0.0\\n13 | 26.2 | 30.1 | 34.5 | +0.2 | 0.0\\n14 | 25.8 | 31.2 | 40.1 | +1.2 | 0.0\\n15 | 24.1 | 30.3 | 37.0 | +0.3 | 0.0\\n16 | 26.0 | 31.3 | 38.6 | +1.2 | 0.0\\n17 | 26.8 | 30.4 | 35.6 | +0.3 | 0.0\\n18 | 26.6 | 30.4 | 36.4 | +0.2 | 0.0\\n19 | 27.2 | 29.9 | 34.0 | -0.3 | 0.0\\n20 | 26.0 | 29.9 | 34.6 | -0.4 | 0.0\\n21 | 26.4 | 31.2 | 38.0 | +0.9 | 0.0\\n22 | 25.7 | 32.2 | 40.4 | +1.9 | 0.0\\n23 |  |  |  |  | \\n24 |  |  |  |  | \\n25 |  |  |  |  | \\n26 |  |  |  |  | \\n27 |  |  |  |  | [...] 28 |  |  |  |  | \\n29 |  |  |  |  | \\n30 |  |  |  |  | \\nAir temperature chart. April  2025.',\n",
       "  'score': 0.8980626},\n",
       " {'title': 'Surat weather in April 2025 - Weather25.com',\n",
       "  'url': 'https://www.weather25.com/asia/india/gujarat/surat?page=month&month=April',\n",
       "  'content': \"Surat weather in April 2025\\n\\nThe average weather in Surat in April\\n\\nThe temperatures in Surat during April are extremely high, between 27°C and hot as 36°C, drinking water regularly is advisable.\\n\\nThere shouldn't be any rainy days in in Surat during April. Having said that, the days are very hot in April so hanging out outside is more recomanded during the after noons and evening time.\\n\\nOur weather forecast can give you a great sense of what weather to expect in Surat in April 2025. [...] Sun | Mon | Tue | Wed | Thu | Fri | Sat\\n |  | 134°/25° | 235°/25° | 334°/24° | 435°/25° | 536°/25°\\n637°/25° | 737°/27° | 838°/26° | 937°/26° | 1036°/26° | 1135°/26° | 1236°/27°\\n1336°/26° | 1437°/26° | 1537°/26° | 1636°/26° | 1737°/27° | 1837°/27° | 1937°/27°\\n2036°/27° | 2136°/27° | 2237°/27° | 2337°/28° | 2436°/28° | 2533°/27° | 2632°/26°\\n2733°/27° | 2832°/27° | 2932°/27° | 3032°/26° |  |  | \\nExplore the weather in Surat in other months\\n\\nSurat annual weather [...] Month | Temperatures | Rainy Days | Dry Days | Snowy Days | Rainfall | Weather | More details\\nJanuary | 30°/20° | 0 | 31 | 0 | 2mm | Good | Surat in January\\nFebruary | 32°/22° | 0 | 28 | 0 | 1mm | Good | Surat in February\\nMarch | 35°/24° | 0 | 31 | 0 | 2mm | Ok | Surat in March\\nApril | 36°/27° | 0 | 30 | 0 | 2mm | Ok | Surat in April\\nMay | 36°/28° | 0 | 31 | 0 | 4mm | Ok | Surat in May\\nJune | 33°/28° | 7 | 23 | 0 | 198mm | Ok | Surat in June\",\n",
       "  'score': 0.8934678}]"
      ]
     },
     "execution_count": 19,
     "metadata": {},
     "output_type": "execute_result"
    }
   ],
   "source": [
    "search.invoke(\"What is Weather of Surat, Gujrat, India?\")"
   ]
  },
  {
   "cell_type": "code",
   "execution_count": 20,
   "id": "6cbcb519",
   "metadata": {},
   "outputs": [],
   "source": [
    "tool = [search]"
   ]
  },
  {
   "cell_type": "code",
   "execution_count": 33,
   "id": "045e8c09",
   "metadata": {},
   "outputs": [
    {
     "data": {
      "text/plain": [
       "ChatPromptTemplate(input_variables=['agent_scratchpad', 'input'], optional_variables=['chat_history'], input_types={'chat_history': list[typing.Annotated[typing.Union[typing.Annotated[langchain_core.messages.ai.AIMessage, Tag(tag='ai')], typing.Annotated[langchain_core.messages.human.HumanMessage, Tag(tag='human')], typing.Annotated[langchain_core.messages.chat.ChatMessage, Tag(tag='chat')], typing.Annotated[langchain_core.messages.system.SystemMessage, Tag(tag='system')], typing.Annotated[langchain_core.messages.function.FunctionMessage, Tag(tag='function')], typing.Annotated[langchain_core.messages.tool.ToolMessage, Tag(tag='tool')], typing.Annotated[langchain_core.messages.ai.AIMessageChunk, Tag(tag='AIMessageChunk')], typing.Annotated[langchain_core.messages.human.HumanMessageChunk, Tag(tag='HumanMessageChunk')], typing.Annotated[langchain_core.messages.chat.ChatMessageChunk, Tag(tag='ChatMessageChunk')], typing.Annotated[langchain_core.messages.system.SystemMessageChunk, Tag(tag='SystemMessageChunk')], typing.Annotated[langchain_core.messages.function.FunctionMessageChunk, Tag(tag='FunctionMessageChunk')], typing.Annotated[langchain_core.messages.tool.ToolMessageChunk, Tag(tag='ToolMessageChunk')]], FieldInfo(annotation=NoneType, required=True, discriminator=Discriminator(discriminator=<function _get_type at 0x000002836C5E0900>, custom_error_type=None, custom_error_message=None, custom_error_context=None))]], 'agent_scratchpad': list[typing.Annotated[typing.Union[typing.Annotated[langchain_core.messages.ai.AIMessage, Tag(tag='ai')], typing.Annotated[langchain_core.messages.human.HumanMessage, Tag(tag='human')], typing.Annotated[langchain_core.messages.chat.ChatMessage, Tag(tag='chat')], typing.Annotated[langchain_core.messages.system.SystemMessage, Tag(tag='system')], typing.Annotated[langchain_core.messages.function.FunctionMessage, Tag(tag='function')], typing.Annotated[langchain_core.messages.tool.ToolMessage, Tag(tag='tool')], typing.Annotated[langchain_core.messages.ai.AIMessageChunk, Tag(tag='AIMessageChunk')], typing.Annotated[langchain_core.messages.human.HumanMessageChunk, Tag(tag='HumanMessageChunk')], typing.Annotated[langchain_core.messages.chat.ChatMessageChunk, Tag(tag='ChatMessageChunk')], typing.Annotated[langchain_core.messages.system.SystemMessageChunk, Tag(tag='SystemMessageChunk')], typing.Annotated[langchain_core.messages.function.FunctionMessageChunk, Tag(tag='FunctionMessageChunk')], typing.Annotated[langchain_core.messages.tool.ToolMessageChunk, Tag(tag='ToolMessageChunk')]], FieldInfo(annotation=NoneType, required=True, discriminator=Discriminator(discriminator=<function _get_type at 0x000002836C5E0900>, custom_error_type=None, custom_error_message=None, custom_error_context=None))]]}, partial_variables={'chat_history': []}, metadata={'lc_hub_owner': 'hwchase17', 'lc_hub_repo': 'openai-functions-agent', 'lc_hub_commit_hash': 'a1655024b06afbd95d17449f21316291e0726f13dcfaf990cc0d18087ad689a5'}, messages=[SystemMessagePromptTemplate(prompt=PromptTemplate(input_variables=[], input_types={}, partial_variables={}, template='You are a helpful assistant'), additional_kwargs={}), MessagesPlaceholder(variable_name='chat_history', optional=True), HumanMessagePromptTemplate(prompt=PromptTemplate(input_variables=['input'], input_types={}, partial_variables={}, template='{input}'), additional_kwargs={}), MessagesPlaceholder(variable_name='agent_scratchpad')])"
      ]
     },
     "execution_count": 33,
     "metadata": {},
     "output_type": "execute_result"
    }
   ],
   "source": [
    "from langsmith import Client\n",
    "client = Client(api_key=LANGSMITH_API_KEY)\n",
    "prompt =client.pull_prompt(\"hwchase17/openai-functions-agent\",include_model=True)\n",
    "prompt"
   ]
  },
  {
   "cell_type": "code",
   "execution_count": 34,
   "id": "c7fced1c",
   "metadata": {},
   "outputs": [],
   "source": [
    "from langchain.agents import create_tool_calling_agent\n",
    "agent = create_tool_calling_agent(llm,tool,prompt)"
   ]
  },
  {
   "cell_type": "code",
   "execution_count": 35,
   "id": "3ec0371b",
   "metadata": {},
   "outputs": [],
   "source": [
    "from langchain.agents import AgentExecutor\n",
    "agent_executor = AgentExecutor(agent=agent, tools=tool, verbose=True)"
   ]
  },
  {
   "cell_type": "code",
   "execution_count": 37,
   "id": "ec0af8ce",
   "metadata": {},
   "outputs": [
    {
     "name": "stdout",
     "output_type": "stream",
     "text": [
      "\n",
      "\n",
      "\u001b[1m> Entering new AgentExecutor chain...\u001b[0m\n",
      "\u001b[32;1m\u001b[1;3m\n",
      "Invoking: `tavily_search_results_json` with `{'query': 'Ravi Avaiya'}`\n",
      "\n",
      "\n",
      "\u001b[0m\u001b[36;1m\u001b[1;3m[{'title': 'Portfolio - Ravi Avaiya', 'url': 'https://raviavaiya-portfolio.vercel.app/project-details.html', 'content': \"I'm Ravi Avaiya, a dedicated web developer with a passion for crafting exceptional digital experiences. With expertise in a variety of technologies, I\", 'score': 0.76617163}, {'title': 'Ravi Avaiya | Portfolio', 'url': 'https://raviavaiya-portfolio.netlify.app/', 'content': \"I'm Ravi Avaiya, a dedicated Data Scientist with a passion for crafting exceptional digital experiences.\\n        With expertise in a variety of technologies, I specialize in Data Science. [...] Ravi Avaiya\\n\\nI'm a Data Scientist\\n\\nAbout Me\\n\\nPassionate Data Scientist Crafting Engaging Digital Experiences\\n\\nHappy Clients Successfully delivered quality services to satisfied clients.\\n\\nProjects Completed diverse projects with excellence and precision.\\n\\nYears of experience Bringing two years of expertise in the industry.\\n\\nAwards Recognized with five prestigious awards for outstanding work.\\n\\nMy Resume [...] As a chatbot developer, I build AI-driven chatbots that offer efficient, accurate,\\n                and personalized user experiences across various platforms, ensuring smooth interaction and customer\\n                satisfaction.\\n\\nMy Skills\\n\\nUnleashing the Power of Skills: Showcasing a Diverse Arsenal of Expertise, Innovation, and\\n            Problem-Solving. Explore a Spectrum of Proficiencies that Drive Results and Fuel Success\\n\\nProjects\", 'score': 0.7552947}, {'title': 'Ravi Avaiya raviavaiya - GitHub', 'url': 'https://github.com/raviavaiya', 'content': 'You must be logged in to block users.\\n\\nContact GitHub support about this user’s behavior.\\n        Learn more about reporting abuse.\\n\\nनमस्ते 🙏🏻, Hi there 👋 I am Ravi Avaiya!\\n\\n\\n\\n🔭 I’m currently working on AI/ML Projects\\n\\n🌱 I’m currently learning Python | FastAPI | LangChain | Prompt Engineering\\n\\n💬 Ask me about Python, AI, Data Science, Machine Learning, LangChain, RAG\\n\\n📫 How to reach me:\\n\\n⚡ Fun fact: I love building communities and mentoring beginners!\\n\\n🛠️ Tech Stack\\n\\n👨\\u200d💻 Languages [...] Navigation Menu\\n\\nSearch code, repositories, users, issues, pull requests...\\n\\nProvide feedback\\n\\nWe read every piece of feedback, and take your input very seriously.\\n\\nSaved searches\\n\\nUse saved searches to filter your results more quickly\\n\\nTo see all available qualifiers, see our documentation.\\n\\n\\n\\nRavi Avaiya\\n        \\n\\n          raviavaiya\\n\\nBlock or report raviavaiya\\n\\nPrevent this user from interacting with your repositories and sending you notifications.\\n          Learn more about blocking users. [...] Vibe Coding.....\\n\\nHTML\\n\\nFooter\\n\\nFooter navigation', 'score': 0.6852132}, {'title': 'Ravi Avaiya | Novice - Kaggle', 'url': 'https://www.kaggle.com/raviavaiya', 'content': 'Results-driven Machine Learning Intern with expertise in Generative AI, Natural Language Processing (NLP), and predictive modeling.', 'score': 0.6180666}, {'title': 'Ravi Avaiya - Surat, Gujarat, India | Professional Profile | LinkedIn', 'url': 'https://in.linkedin.com/in/ravi-avaiya-059b82249', 'content': 'I have successfully completed my BSc.IT graduation with a strong foundation in Information Technology and a keen interest in Data Science.', 'score': 0.61251885}]\u001b[0m\u001b[32;1m\u001b[1;3m\n",
      "Invoking: `tavily_search_results_json` with `{'query': \"Ravi Avaiya's skills\"}`\n",
      "\n",
      "\n",
      "\u001b[0m\u001b[36;1m\u001b[1;3m[{'title': 'Ravi Avaiya | Contra', 'url': 'https://contra.com/ravi_avaiya_zte8cn4k/about', 'content': 'Passionate AI/ML enthusiast with hands-on experience in developing machine learning models and algorithms. Skilled in data analysis and Python programming.', 'score': 0.7498395}, {'title': 'Ravi Avaiya | Portfolio', 'url': 'https://raviavaiya-portfolio.netlify.app/', 'content': \"As a chatbot developer, I build AI-driven chatbots that offer efficient, accurate,\\n                and personalized user experiences across various platforms, ensuring smooth interaction and customer\\n                satisfaction.\\n\\nMy Skills\\n\\nUnleashing the Power of Skills: Showcasing a Diverse Arsenal of Expertise, Innovation, and\\n            Problem-Solving. Explore a Spectrum of Proficiencies that Drive Results and Fuel Success\\n\\nProjects [...] Babu Madhav Institute of Information Technology's (BMIIT) B.Sc. in IT program has equipped me with\\n                proficiency in programming languages, Data Science technologies, database management systems, and\\n                networking concepts, along with strong problem-solving and communication skills.\\n\\nWith an outstanding academic achievement. successfully completed my degree in B.Sc. in IT from Uka\\n                Tarsadia University.\\n\\nSchool Education [...] I specialize in developing dynamic Power BI dashboards that provide actionable\\n                insights through interactive and intuitive data visualizations, empowering business decisions.\\n\\nNatural Language Processing\\n\\nWith expertise in NLP, I design and develop solutions that process and understand\\n                human language, enabling sentiment analysis, text classification, and conversational AI models.\\n\\nChatbot Development\", 'score': 0.74961954}, {'title': 'Data Analysis by Ravi Avaiya | Contra', 'url': 'https://contra.com/s/YemWUv6o-data-analysis', 'content': \"Industries Served:\\n📊 Finance & Banking\\n🛍️ Retail & E-commerce\\n🏥 Healthcare\\n🚗 Automotive\\n📡 Telecommunications\\n\\nTools & Technologies:\\n\\nPython, R, SQL\\n\\nPower BI, Tableau\\n\\nExcel, Google Sheets\\n\\nMachine Learning & AI\\n\\nWhy Choose Us?\\n✔️ Data-driven decision-making\\n✔️ Customized analytics solutions\\n✔️ Scalable and cost-effective services\\n\\nExample projects\\n\\nAmazon Prime Analysis\\n\\nSkills and tools\\n\\nData Analyst\\n\\nData Scientist\\n\\nData Visualizer\\n\\nData Analysis\\n\\nMicrosoft Excel\\n\\npandas\\n\\nPython\\n\\nTableau [...] Key Services:\\n✅ Data Collection & Cleaning: Gathering data from various sources and ensuring accuracy.\\n✅ Exploratory Data Analysis (EDA): Identifying patterns, trends, and correlations.\\n✅ Data Visualization: Creating dashboards and reports using tools like Power BI, Tableau, and Excel.\\n✅ Predictive Analytics: Leveraging machine learning to forecast trends and outcomes.\\n✅ Business Intelligence (BI): Providing strategic recommendations based on data insights. [...] Data Analysis\\n\\nRavi Avaiya\\n\\nStarting at\\n\\n$\\n\\n40\\n\\nAbout this service\\n\\nSummary\\n\\nWhat's included\\n\\nData Analytics\\n\\nOverview:\\nOur Data Analytics service helps businesses and individuals make data-driven decisions by analyzing, interpreting, and visualizing data. We transform raw data into actionable insights to improve efficiency, optimize operations, and drive growth.\", 'score': 0.6698534}, {'title': 'Portfolio - Ravi Avaiya', 'url': 'https://raviavaiya-portfolio.vercel.app/project-details.html', 'content': \"I'm Ravi Avaiya, a dedicated web developer with a passion for crafting exceptional digital experiences. With expertise in a variety of technologies, I\", 'score': 0.59089786}, {'title': 'Ravi Avaiya on LinkedIn: Certificate of Completion', 'url': 'https://www.linkedin.com/posts/raviavaiya_certificate-of-completion-activity-7229073572751634433-L_cX', 'content': 'Just completed the “Introduction to Career Skills in Data Analytics” course! This course has equipped me with valuable insights into data analytics', 'score': 0.56431514}]\u001b[0m\u001b[32;1m\u001b[1;3mRavi Avaiya is a passionate AI/ML enthusiast with skills in data analysis and Python programming. He also has experience in chatbot development, natural language processing, and data visualization. \n",
      "\u001b[0m\n",
      "\n",
      "\u001b[1m> Finished chain.\u001b[0m\n"
     ]
    },
    {
     "data": {
      "text/plain": [
       "{'input': 'what is Ravi Avaiya',\n",
       " 'chat_history': [],\n",
       " 'output': 'Ravi Avaiya is a passionate AI/ML enthusiast with skills in data analysis and Python programming. He also has experience in chatbot development, natural language processing, and data visualization. \\n'}"
      ]
     },
     "execution_count": 37,
     "metadata": {},
     "output_type": "execute_result"
    }
   ],
   "source": [
    "agent_executor.invoke({\"input\":\"what is Ravi Avaiya\",\"chat_history\": []})"
   ]
  },
  {
   "cell_type": "markdown",
   "id": "b8896770",
   "metadata": {},
   "source": [
    "1. RAG Tool\n",
    "\n",
    "2. ReAct\n",
    "\n",
    "3. Custom tool with ReAct agent\n",
    "\n",
    "4. agent code from the latest version (V0.2 and V0.3)"
   ]
  },
  {
   "cell_type": "code",
   "execution_count": 38,
   "id": "d4e6bc9b",
   "metadata": {},
   "outputs": [
    {
     "name": "stderr",
     "output_type": "stream",
     "text": [
      "USER_AGENT environment variable not set, consider setting it to identify your requests.\n"
     ]
    }
   ],
   "source": [
    "from langchain_community.document_loaders import WebBaseLoader\n",
    "from langchain_community.vectorstores import FAISS\n",
    "from langchain.text_splitter import RecursiveCharacterTextSplitter"
   ]
  },
  {
   "cell_type": "code",
   "execution_count": 39,
   "id": "1b26e9fc",
   "metadata": {},
   "outputs": [],
   "source": [
    "loader = WebBaseLoader(\"https://python.langchain.com/v0.1/docs/modules/agents/agent_types/\")\n",
    "docs = loader.load()"
   ]
  },
  {
   "cell_type": "code",
   "execution_count": 40,
   "id": "a5a56e0f",
   "metadata": {},
   "outputs": [
    {
     "data": {
      "text/plain": [
       "[Document(metadata={'source': 'https://python.langchain.com/v0.1/docs/modules/agents/agent_types/', 'title': 'Types | 🦜️🔗 LangChain', 'description': 'This categorizes all the available agents along a few dimensions.', 'language': 'en'}, page_content=\"\\n\\n\\n\\n\\nTypes | 🦜️🔗 LangChain\\n\\n\\n\\n\\n\\n\\n\\nSkip to main contentThis is documentation for LangChain v0.1, which is no longer actively maintained. Check out the docs for the latest version here.ComponentsIntegrationsGuidesAPI ReferenceMorePeopleVersioningContributingTemplatesCookbooksTutorialsYouTubev0.1Latestv0.2v0.1🦜️🔗LangSmithLangSmith DocsLangServe GitHubTemplates GitHubTemplates HubLangChain HubJS/TS Docs💬SearchModel I/OPromptsChat modelsLLMsOutput parsersRetrievalDocument loadersText splittersEmbedding modelsVector storesRetrieversIndexingCompositionToolsAgentsQuickstartConceptsTypesTool callingOpenAI toolsOpenAI functionsXML AgentJSON Chat AgentStructured chatReActSelf-ask with searchOpenAI assistantsAgentshow_toChainsMoreComponentsThis is documentation for LangChain v0.1, which is no longer actively maintained.For the current stable version, see this version (Latest).CompositionAgentsTypesAgent TypesThis categorizes all the available agents along a few dimensions.Intended Model TypeWhether this agent is intended for Chat Models (takes in messages, outputs message) or LLMs (takes in string, outputs string). The main thing this affects is the prompting strategy used. You can use an agent with a different type of model than it is intended for, but it likely won't produce results of the same quality.Supports Chat HistoryWhether or not these agent types support chat history. If it does, that means it can be used as a chatbot. If it does not, then that means it's more suited for single tasks. Supporting chat history generally requires better models, so earlier agent types aimed at worse models may not support it.Supports Multi-Input ToolsWhether or not these agent types support tools with multiple inputs. If a tool only requires a single input, it is generally easier for an LLM to know how to invoke it. Therefore, several earlier agent types aimed at worse models may not support them.Supports Parallel Function CallingHaving an LLM call multiple tools at the same time can greatly speed up agents whether there are tasks that are assisted by doing so. However, it is much more challenging for LLMs to do this, so some agent types do not support this.Required Model ParamsWhether this agent requires the model to support any additional parameters. Some agent types take advantage of things like OpenAI function calling, which require other model parameters. If none are required, then that means that everything is done via promptingWhen to UseOur commentary on when you should consider using this agent type.Agent TypeIntended Model TypeSupports Chat HistorySupports Multi-Input ToolsSupports Parallel Function CallingRequired Model ParamsWhen to UseAPITool CallingChat✅✅✅toolsIf you are using a tool-calling modelRefOpenAI ToolsChat✅✅✅tools[Legacy] If you are using a recent OpenAI model (1106 onwards). Generic Tool Calling agent recommended instead.RefOpenAI FunctionsChat✅✅functions[Legacy] If you are using an OpenAI model, or an open-source model that has been finetuned for function calling and exposes the same functions parameters as OpenAI. Generic Tool Calling agent recommended insteadRefXMLLLM✅If you are using Anthropic models, or other models good at XMLRefStructured ChatChat✅✅If you need to support tools with multiple inputsRefJSON ChatChat✅If you are using a model good at JSONRefReActLLM✅If you are using a simple modelRefSelf Ask With SearchLLMIf you are using a simple model and only have one search toolRefHelp us out by providing feedback on this documentation page:PreviousConceptsNextTool callingCommunityDiscordTwitterGitHubPythonJS/TSMoreHomepageBlogYouTubeCopyright © 2024 LangChain, Inc.\\n\\n\\n\\n\")]"
      ]
     },
     "execution_count": 40,
     "metadata": {},
     "output_type": "execute_result"
    }
   ],
   "source": [
    "docs"
   ]
  },
  {
   "cell_type": "code",
   "execution_count": 41,
   "id": "ab246c88",
   "metadata": {},
   "outputs": [],
   "source": [
    "documents = RecursiveCharacterTextSplitter(\n",
    "    chunk_size=1000,\n",
    "    chunk_overlap=200\n",
    ").split_documents(docs)"
   ]
  },
  {
   "cell_type": "code",
   "execution_count": 42,
   "id": "ecfabfee",
   "metadata": {},
   "outputs": [],
   "source": [
    "vector = FAISS.from_documents(documents, enbeddings)\n",
    "retriver = vector.as_retriever()"
   ]
  },
  {
   "cell_type": "code",
   "execution_count": 43,
   "id": "9065d1a6",
   "metadata": {},
   "outputs": [
    {
     "data": {
      "text/plain": [
       "Document(id='a24a1537-487b-4fd7-aeb0-4260b3ee730e', metadata={'source': 'https://python.langchain.com/v0.1/docs/modules/agents/agent_types/', 'title': 'Types | 🦜️🔗 LangChain', 'description': 'This categorizes all the available agents along a few dimensions.', 'language': 'en'}, page_content='it.Supports Multi-Input ToolsWhether or not these agent types support tools with multiple inputs. If a tool only requires a single input, it is generally easier for an LLM to know how to invoke it. Therefore, several earlier agent types aimed at worse models may not support them.Supports Parallel Function CallingHaving an LLM call multiple tools at the same time can greatly speed up agents whether there are tasks that are assisted by doing so. However, it is much more challenging for LLMs to do this, so some agent types do not support this.Required Model ParamsWhether this agent requires the model to support any additional parameters. Some agent types take advantage of things like OpenAI function calling, which require other model parameters. If none are required, then that means that everything is done via promptingWhen to UseOur commentary on when you should consider using this agent type.Agent TypeIntended Model TypeSupports Chat HistorySupports Multi-Input ToolsSupports Parallel')"
      ]
     },
     "execution_count": 43,
     "metadata": {},
     "output_type": "execute_result"
    }
   ],
   "source": [
    "retriver.invoke(\"What is Agent Type?\")[0]"
   ]
  },
  {
   "cell_type": "code",
   "execution_count": 44,
   "id": "d9309a76",
   "metadata": {},
   "outputs": [],
   "source": [
    "from langchain.tools.retriever import create_retriever_tool\n",
    "retriver_tool = create_retriever_tool(\n",
    "    retriver,\n",
    "    \"agent types search\",\n",
    "    \"Search for agent types\",\n",
    ")"
   ]
  },
  {
   "cell_type": "code",
   "execution_count": 45,
   "id": "37cf463d",
   "metadata": {},
   "outputs": [],
   "source": [
    "tools = [search, retriver_tool]"
   ]
  },
  {
   "cell_type": "code",
   "execution_count": 48,
   "id": "9cb48c34",
   "metadata": {},
   "outputs": [],
   "source": [
    "from langchain.agents import create_tool_calling_agent\n",
    "\n",
    "agent = create_tool_calling_agent(llm, tools, prompt)"
   ]
  },
  {
   "cell_type": "code",
   "execution_count": 49,
   "id": "1548cd53",
   "metadata": {},
   "outputs": [],
   "source": [
    "from langchain.agents import AgentExecutor\n",
    "\n",
    "agent_executor = AgentExecutor(agent=agent, tools=tools, verbose=True)"
   ]
  },
  {
   "cell_type": "code",
   "execution_count": 50,
   "id": "4933ffda",
   "metadata": {},
   "outputs": [
    {
     "name": "stdout",
     "output_type": "stream",
     "text": [
      "\n",
      "\n",
      "\u001b[1m> Entering new AgentExecutor chain...\u001b[0m\n",
      "\u001b[32;1m\u001b[1;3m\n",
      "Invoking: `agent types search` with `{'query': 'What is Agent Type?'}`\n",
      "\n",
      "\n",
      "\u001b[0m\u001b[33;1m\u001b[1;3mit.Supports Multi-Input ToolsWhether or not these agent types support tools with multiple inputs. If a tool only requires a single input, it is generally easier for an LLM to know how to invoke it. Therefore, several earlier agent types aimed at worse models may not support them.Supports Parallel Function CallingHaving an LLM call multiple tools at the same time can greatly speed up agents whether there are tasks that are assisted by doing so. However, it is much more challenging for LLMs to do this, so some agent types do not support this.Required Model ParamsWhether this agent requires the model to support any additional parameters. Some agent types take advantage of things like OpenAI function calling, which require other model parameters. If none are required, then that means that everything is done via promptingWhen to UseOur commentary on when you should consider using this agent type.Agent TypeIntended Model TypeSupports Chat HistorySupports Multi-Input ToolsSupports Parallel\n",
      "\n",
      "stable version, see this version (Latest).CompositionAgentsTypesAgent TypesThis categorizes all the available agents along a few dimensions.Intended Model TypeWhether this agent is intended for Chat Models (takes in messages, outputs message) or LLMs (takes in string, outputs string). The main thing this affects is the prompting strategy used. You can use an agent with a different type of model than it is intended for, but it likely won't produce results of the same quality.Supports Chat HistoryWhether or not these agent types support chat history. If it does, that means it can be used as a chatbot. If it does not, then that means it's more suited for single tasks. Supporting chat history generally requires better models, so earlier agent types aimed at worse models may not support it.Supports Multi-Input ToolsWhether or not these agent types support tools with multiple inputs. If a tool only requires a single input, it is generally easier for an LLM to know how to invoke it.\n",
      "\n",
      "is done via promptingWhen to UseOur commentary on when you should consider using this agent type.Agent TypeIntended Model TypeSupports Chat HistorySupports Multi-Input ToolsSupports Parallel Function CallingRequired Model ParamsWhen to UseAPITool CallingChat✅✅✅toolsIf you are using a tool-calling modelRefOpenAI ToolsChat✅✅✅tools[Legacy] If you are using a recent OpenAI model (1106 onwards). Generic Tool Calling agent recommended instead.RefOpenAI FunctionsChat✅✅functions[Legacy] If you are using an OpenAI model, or an open-source model that has been finetuned for function calling and exposes the same functions parameters as OpenAI. Generic Tool Calling agent recommended insteadRefXMLLLM✅If you are using Anthropic models, or other models good at XMLRefStructured ChatChat✅✅If you need to support tools with multiple inputsRefJSON ChatChat✅If you are using a model good at JSONRefReActLLM✅If you are using a simple modelRefSelf Ask With SearchLLMIf you are using a simple model and only have\n",
      "\n",
      "Types | 🦜️🔗 LangChain\u001b[0m\u001b[32;1m\u001b[1;3m\n",
      "Invoking: `agent types search` with `{'query': 'What is Agent Type?'}`\n",
      "\n",
      "\n",
      "\u001b[0m\u001b[33;1m\u001b[1;3mit.Supports Multi-Input ToolsWhether or not these agent types support tools with multiple inputs. If a tool only requires a single input, it is generally easier for an LLM to know how to invoke it. Therefore, several earlier agent types aimed at worse models may not support them.Supports Parallel Function CallingHaving an LLM call multiple tools at the same time can greatly speed up agents whether there are tasks that are assisted by doing so. However, it is much more challenging for LLMs to do this, so some agent types do not support this.Required Model ParamsWhether this agent requires the model to support any additional parameters. Some agent types take advantage of things like OpenAI function calling, which require other model parameters. If none are required, then that means that everything is done via promptingWhen to UseOur commentary on when you should consider using this agent type.Agent TypeIntended Model TypeSupports Chat HistorySupports Multi-Input ToolsSupports Parallel\n",
      "\n",
      "stable version, see this version (Latest).CompositionAgentsTypesAgent TypesThis categorizes all the available agents along a few dimensions.Intended Model TypeWhether this agent is intended for Chat Models (takes in messages, outputs message) or LLMs (takes in string, outputs string). The main thing this affects is the prompting strategy used. You can use an agent with a different type of model than it is intended for, but it likely won't produce results of the same quality.Supports Chat HistoryWhether or not these agent types support chat history. If it does, that means it can be used as a chatbot. If it does not, then that means it's more suited for single tasks. Supporting chat history generally requires better models, so earlier agent types aimed at worse models may not support it.Supports Multi-Input ToolsWhether or not these agent types support tools with multiple inputs. If a tool only requires a single input, it is generally easier for an LLM to know how to invoke it.\n",
      "\n",
      "is done via promptingWhen to UseOur commentary on when you should consider using this agent type.Agent TypeIntended Model TypeSupports Chat HistorySupports Multi-Input ToolsSupports Parallel Function CallingRequired Model ParamsWhen to UseAPITool CallingChat✅✅✅toolsIf you are using a tool-calling modelRefOpenAI ToolsChat✅✅✅tools[Legacy] If you are using a recent OpenAI model (1106 onwards). Generic Tool Calling agent recommended instead.RefOpenAI FunctionsChat✅✅functions[Legacy] If you are using an OpenAI model, or an open-source model that has been finetuned for function calling and exposes the same functions parameters as OpenAI. Generic Tool Calling agent recommended insteadRefXMLLLM✅If you are using Anthropic models, or other models good at XMLRefStructured ChatChat✅✅If you need to support tools with multiple inputsRefJSON ChatChat✅If you are using a model good at JSONRefReActLLM✅If you are using a simple modelRefSelf Ask With SearchLLMIf you are using a simple model and only have\n",
      "\n",
      "Types | 🦜️🔗 LangChain\u001b[0m\u001b[32;1m\u001b[1;3mAgent Type is a categorization of different AI agents based on their capabilities and intended use cases.  \n",
      "\n",
      "Think of it like different types of tools: you wouldn't use a hammer to screw in a lightbulb, right?  Similarly, different Agent Types are better suited for different tasks.  \n",
      "\n",
      "The LangChain documentation you provided describes various Agent Types, highlighting their strengths and weaknesses:\n",
      "\n",
      "* **Chat-based Agents:** Designed to engage in conversation, remembering past messages (chat history) for context.\n",
      "* **Tool-Calling Agents:**  Can leverage external tools to perform tasks, like searching the web or generating different creative text formats.\n",
      "* **Model-Specific Agents:**  Optimized for particular types of models, like OpenAI's models or Anthropic's models.\n",
      "\n",
      "\n",
      "\n",
      "Let me know if you'd like to explore a specific Agent Type in more detail!\n",
      "\u001b[0m\n",
      "\n",
      "\u001b[1m> Finished chain.\u001b[0m\n"
     ]
    },
    {
     "data": {
      "text/plain": [
       "{'input': 'What is Agent Type?',\n",
       " 'chat_history': [],\n",
       " 'output': \"Agent Type is a categorization of different AI agents based on their capabilities and intended use cases.  \\n\\nThink of it like different types of tools: you wouldn't use a hammer to screw in a lightbulb, right?  Similarly, different Agent Types are better suited for different tasks.  \\n\\nThe LangChain documentation you provided describes various Agent Types, highlighting their strengths and weaknesses:\\n\\n* **Chat-based Agents:** Designed to engage in conversation, remembering past messages (chat history) for context.\\n* **Tool-Calling Agents:**  Can leverage external tools to perform tasks, like searching the web or generating different creative text formats.\\n* **Model-Specific Agents:**  Optimized for particular types of models, like OpenAI's models or Anthropic's models.\\n\\n\\n\\nLet me know if you'd like to explore a specific Agent Type in more detail!\\n\"}"
      ]
     },
     "execution_count": 50,
     "metadata": {},
     "output_type": "execute_result"
    }
   ],
   "source": [
    "agent_executor.invoke({\"input\":\"What is Agent Type?\",\"chat_history\": []})"
   ]
  },
  {
   "cell_type": "code",
   "execution_count": null,
   "id": "6380be11",
   "metadata": {},
   "outputs": [],
   "source": []
  }
 ],
 "metadata": {
  "kernelspec": {
   "display_name": "langgreph_env",
   "language": "python",
   "name": "python3"
  },
  "language_info": {
   "codemirror_mode": {
    "name": "ipython",
    "version": 3
   },
   "file_extension": ".py",
   "mimetype": "text/x-python",
   "name": "python",
   "nbconvert_exporter": "python",
   "pygments_lexer": "ipython3",
   "version": "3.12.10"
  }
 },
 "nbformat": 4,
 "nbformat_minor": 5
}
